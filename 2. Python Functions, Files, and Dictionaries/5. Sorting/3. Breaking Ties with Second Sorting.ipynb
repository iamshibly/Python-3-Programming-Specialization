{
 "cells": [
  {
   "cell_type": "markdown",
   "id": "5235dbcc-7a4d-4ddc-9f52-80fc1097d68d",
   "metadata": {},
   "source": [
    "lambda fruit_name: (len(fruit_name), fruit_name)\n",
    "This means each fruit is sorted by a tuple:\n",
    "\n",
    "Primary Sorting Key → len(fruit_name) (sort by length of fruit name)\n",
    "\n",
    "Secondary Sorting Key → fruit_name (sort alphabetically if lengths are equal)"
   ]
  },
  {
   "cell_type": "code",
   "execution_count": 1,
   "id": "cd7c8343-3218-449c-9b65-b1fe6dfb2f20",
   "metadata": {},
   "outputs": [
    {
     "name": "stdout",
     "output_type": "stream",
     "text": [
      "('A', 2, 4)\n",
      "('A', 3, 2)\n",
      "('B', 3, 1)\n",
      "('C', 1, 2)\n",
      "('C', 1, 4)\n"
     ]
    }
   ],
   "source": [
    "tups = [('A', 3, 2),\n",
    "        ('C', 1, 4),\n",
    "        ('B', 3, 1),\n",
    "        ('A', 2, 4),\n",
    "        ('C', 1, 2)]\n",
    "for tup in sorted(tups):\n",
    "    print(tup)\n"
   ]
  },
  {
   "cell_type": "code",
   "execution_count": 2,
   "id": "97c0f54a-f8b3-4736-b250-c86dcf7ba0d3",
   "metadata": {},
   "outputs": [
    {
     "name": "stdout",
     "output_type": "stream",
     "text": [
      "blueberry\n",
      "papaya\n",
      "peach\n",
      "mango\n",
      "apple\n",
      "pear\n",
      "kiwi\n"
     ]
    }
   ],
   "source": [
    "fruits = ['peach', 'kiwi', 'apple', 'blueberry', 'papaya', 'mango', 'pear']\n",
    "new_order = sorted(fruits, key=lambda fruit_name: (len(fruit_name), fruit_name), reverse=True)\n",
    "for fruit in new_order:\n",
    "    print(fruit)\n"
   ]
  },
  {
   "cell_type": "code",
   "execution_count": 3,
   "id": "aa3d3df3-f2cc-4c56-acc3-e0e8a3fa5bf9",
   "metadata": {},
   "outputs": [
    {
     "name": "stdout",
     "output_type": "stream",
     "text": [
      "blueberry\n",
      "papaya\n",
      "apple\n",
      "mango\n",
      "peach\n",
      "kiwi\n",
      "pear\n"
     ]
    }
   ],
   "source": [
    "fruits = ['peach', 'kiwi', 'apple', 'blueberry', 'papaya', 'mango', 'pear']\n",
    "new_order = sorted(fruits, key=lambda fruit_name: (-len(fruit_name), fruit_name))\n",
    "for fruit in new_order:\n",
    "    print(fruit)\n"
   ]
  },
  {
   "cell_type": "markdown",
   "id": "be0cc823-6867-46a1-bf38-91bee71e6f0c",
   "metadata": {},
   "source": [
    "# When to use a Lambda Expression"
   ]
  },
  {
   "cell_type": "code",
   "execution_count": 4,
   "id": "2221d158-50e4-49e2-ad9d-fe6c8fdd2e50",
   "metadata": {},
   "outputs": [
    {
     "name": "stdout",
     "output_type": "stream",
     "text": [
      "['Washington', 'Minnesota', 'Michigan']\n"
     ]
    }
   ],
   "source": [
    "states = {\"Minnesota\": [\"St. Paul\", \"Minneapolis\", \"Saint Cloud\", \"Stillwater\"],\n",
    "          \"Michigan\": [\"Ann Arbor\", \"Traverse City\", \"Lansing\", \"Kalamazoo\"],\n",
    "          \"Washington\": [\"Seattle\", \"Tacoma\", \"Olympia\", \"Vancouver\"]}\n",
    "\n",
    "print(sorted(states, key=lambda state: len(states[state][0])))\n"
   ]
  },
  {
   "cell_type": "code",
   "execution_count": 5,
   "id": "9571ff5b-ba7a-4089-9c8c-03138d1d4489",
   "metadata": {},
   "outputs": [
    {
     "name": "stdout",
     "output_type": "stream",
     "text": [
      "['Michigan', 'Washington', 'Minnesota']\n"
     ]
    }
   ],
   "source": [
    "def s_cities_count(city_list):\n",
    "    ct = 0\n",
    "    for city in city_list:\n",
    "        if city[0] == \"S\":\n",
    "            ct += 1\n",
    "    return ct\n",
    "\n",
    "states = {\"Minnesota\": [\"St. Paul\", \"Minneapolis\", \"Saint Cloud\", \"Stillwater\"],\n",
    "          \"Michigan\": [\"Ann Arbor\", \"Traverse City\", \"Lansing\", \"Kalamazoo\"],\n",
    "          \"Washington\": [\"Seattle\", \"Tacoma\", \"Olympia\", \"Vancouver\"]}\n",
    "\n",
    "print(sorted(states, key=lambda state: s_cities_count(states[state])))\n"
   ]
  },
  {
   "cell_type": "code",
   "execution_count": null,
   "id": "13bc2ab9-00b5-45bb-b666-13c5eca63228",
   "metadata": {},
   "outputs": [],
   "source": []
  }
 ],
 "metadata": {
  "kernelspec": {
   "display_name": "Python 3 (ipykernel)",
   "language": "python",
   "name": "python3"
  },
  "language_info": {
   "codemirror_mode": {
    "name": "ipython",
    "version": 3
   },
   "file_extension": ".py",
   "mimetype": "text/x-python",
   "name": "python",
   "nbconvert_exporter": "python",
   "pygments_lexer": "ipython3",
   "version": "3.13.2"
  }
 },
 "nbformat": 4,
 "nbformat_minor": 5
}
