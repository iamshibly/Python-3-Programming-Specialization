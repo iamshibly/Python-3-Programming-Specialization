{
 "cells": [
  {
   "cell_type": "markdown",
   "id": "bc83d7a4-fa1f-459d-9d5f-56bb1a82acf8",
   "metadata": {},
   "source": [
    "# Sorting a Dictionary's Keys"
   ]
  },
  {
   "cell_type": "code",
   "execution_count": null,
   "id": "b06a899f-fd6a-4ff4-b7a8-f3c67b3599f4",
   "metadata": {},
   "outputs": [],
   "source": [
    "L = ['E', 'F', 'B', 'A', 'D', 'I', 'I', 'C', 'B', 'A', 'D', 'D', 'E', 'D']\n",
    "\n",
    "d = {}\n",
    "for x in L:\n",
    "    if x in d:\n",
    "        d[x] = d[x] + 1\n",
    "    else:\n",
    "        d[x] = 1\n",
    "for x in d.keys():\n",
    "    print(\"{} appears {} times\".format(x, d[x]))\n"
   ]
  },
  {
   "cell_type": "code",
   "execution_count": null,
   "id": "9410c8cc-f3c0-4017-ace1-52bb43a460a9",
   "metadata": {},
   "outputs": [],
   "source": [
    "L = ['E', 'F', 'B', 'A', 'D', 'I', 'I', 'C', 'B', 'A', 'D', 'D', 'E', 'D']\n",
    "\n",
    "d = {}\n",
    "for x in L:\n",
    "    if x in d:\n",
    "        d[x] = d[x] + 1\n",
    "    else:\n",
    "        d[x] = 1\n",
    "y = sorted(d.keys())\n",
    "for k in y:\n",
    "    print(\"{} appears {} times\".format(k, d[k]))\n"
   ]
  },
  {
   "cell_type": "code",
   "execution_count": 9,
   "id": "875e3b07-044e-4b78-918f-679b4e556b5d",
   "metadata": {},
   "outputs": [
    {
     "name": "stdout",
     "output_type": "stream",
     "text": [
      "['D', 'E', 'B', 'A', 'I', 'F', 'C']\n",
      "D appears 4 times\n",
      "E appears 2 times\n",
      "B appears 2 times\n",
      "A appears 2 times\n",
      "I appears 2 times\n",
      "F appears 1 times\n",
      "C appears 1 times\n"
     ]
    }
   ],
   "source": [
    "L = ['E', 'F', 'B', 'A', 'D', 'I', 'I', 'C', 'B', 'A', 'D', 'D', 'E', 'D']\n",
    "\n",
    "d = {}\n",
    "for x in L:\n",
    "    if x in d:\n",
    "        d[x] = d[x] + 1\n",
    "    else:\n",
    "        d[x] = 1\n",
    "\n",
    "y = sorted(d.keys(), key=lambda k: d[k], reverse=True)\n",
    "print(y)\n",
    "for k in y:\n",
    "    print(\"{} appears {} times\".format(k, d[k]))\n"
   ]
  },
  {
   "cell_type": "code",
   "execution_count": null,
   "id": "10210a98-5ef5-43b1-a4a3-cc316762338c",
   "metadata": {},
   "outputs": [],
   "source": [
    "L = ['E', 'F', 'B', 'A', 'D', 'I', 'I', 'C', 'B', 'A', 'D', 'D', 'E', 'D']\n",
    "\n",
    "d = {}\n",
    "for x in L:\n",
    "    if x in d:\n",
    "        d[x] = d[x] + 1\n",
    "    else:\n",
    "        d[x] = 1\n",
    "\n",
    "def g(k):\n",
    "    return d[k]\n",
    "\n",
    "y =(sorted(d.keys(), key=g, reverse=True))\n",
    "\n",
    "# now loop through the keys\n",
    "for k in y:\n",
    "    print(\"{} appears {} times\".format(k, d[k]))\n"
   ]
  },
  {
   "cell_type": "code",
   "execution_count": null,
   "id": "cdb8db95-2519-4ddb-9e95-ee1e5551b0e5",
   "metadata": {},
   "outputs": [],
   "source": [
    "L = ['E', 'F', 'B', 'A', 'D', 'I', 'I', 'C', 'B', 'A', 'D', 'D', 'E', 'D']\n",
    "\n",
    "d = {}\n",
    "for x in L:\n",
    "    if x in d:\n",
    "        d[x] = d[x] + 1\n",
    "    else:\n",
    "        d[x] = 1\n",
    "\n",
    "# now loop through the sorted keys\n",
    "for k in sorted(d, key=lambda k: d[k], reverse=True):\n",
    "      print(\"{} appears {} times\".format(k, d[k]))\n"
   ]
  },
  {
   "cell_type": "code",
   "execution_count": null,
   "id": "b6e51e71-0582-4119-9692-09729ffae4d0",
   "metadata": {},
   "outputs": [],
   "source": []
  }
 ],
 "metadata": {
  "kernelspec": {
   "display_name": "Python 3 (ipykernel)",
   "language": "python",
   "name": "python3"
  },
  "language_info": {
   "codemirror_mode": {
    "name": "ipython",
    "version": 3
   },
   "file_extension": ".py",
   "mimetype": "text/x-python",
   "name": "python",
   "nbconvert_exporter": "python",
   "pygments_lexer": "ipython3",
   "version": "3.13.2"
  }
 },
 "nbformat": 4,
 "nbformat_minor": 5
}
