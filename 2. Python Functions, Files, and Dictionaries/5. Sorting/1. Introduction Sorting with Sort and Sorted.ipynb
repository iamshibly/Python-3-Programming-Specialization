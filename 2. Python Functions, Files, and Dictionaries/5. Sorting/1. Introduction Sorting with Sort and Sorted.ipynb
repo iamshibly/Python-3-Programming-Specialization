{
 "cells": [
  {
   "cell_type": "code",
   "execution_count": null,
   "id": "53b686cf-1252-4bc6-8169-851fc51f6c32",
   "metadata": {},
   "outputs": [],
   "source": [
    "l1=[1,5,-5,-12,0]\n",
    "l1.sort()\n",
    "print(l1)\n",
    "l2=[\"joss\",\"dhur\",\"mal\",\"bou\"]\n",
    "l2.sort()\n",
    "print(l2)"
   ]
  },
  {
   "cell_type": "code",
   "execution_count": null,
   "id": "6e0fb8f4-90d2-4857-9c0f-80dfa89c306c",
   "metadata": {},
   "outputs": [],
   "source": [
    "L2 = [\"Cherry\", \"Apple\", \"Blueberry\"]\n",
    "\n",
    "L3 = sorted(L2)\n",
    "print(L3)\n",
    "print(sorted(L2))\n",
    "print(L2) # unchanged\n",
    "\n",
    "print(\"----\")\n",
    "\n",
    "L2.sort()\n",
    "print(L2)\n",
    "print(L2.sort())  #return value is None\n"
   ]
  },
  {
   "cell_type": "markdown",
   "id": "0b67d243-feb7-481a-8726-bf60154d0035",
   "metadata": {},
   "source": [
    "# Optional Reverse Parameter"
   ]
  },
  {
   "cell_type": "code",
   "execution_count": null,
   "id": "c135f72a-88ee-4e91-afbf-eb41eacfa7ca",
   "metadata": {},
   "outputs": [],
   "source": [
    "l2=[\"edd\",\"asoo\",\"ziaia\",\"mamam\"]\n",
    "l3= sorted(l2)\n",
    "print(l3)\n",
    "l4=sorted(l2,reverse=True)\n",
    "print(l4)\n"
   ]
  },
  {
   "cell_type": "code",
   "execution_count": null,
   "id": "77a08f4c-30fe-4539-aa48-580c8dd71fe9",
   "metadata": {},
   "outputs": [],
   "source": [
    "lst = [3, 5, 1, 6, 7, 2, 9, -2, 5]\n",
    "lst_sorted= sorted(lst, reverse=True)\n",
    "print(lst_sorted)"
   ]
  },
  {
   "cell_type": "code",
   "execution_count": null,
   "id": "55c21d72-1a24-4b21-9b00-5e66fb8fb699",
   "metadata": {},
   "outputs": [],
   "source": [
    "L1 = [1, 7, 4, -2, 3]\n",
    "\n",
    "def absolute(x):\n",
    "    if x >= 0:\n",
    "        return x\n",
    "    else:\n",
    "        return -x\n",
    "\n",
    "print(absolute(3))\n",
    "print(absolute(-119))\n",
    "\n",
    "for y in L1:\n",
    "    print(absolute(y))\n"
   ]
  },
  {
   "cell_type": "markdown",
   "id": "588fb11c-7858-46ad-9219-d429e012285b",
   "metadata": {},
   "source": [
    "# Absolute Value"
   ]
  },
  {
   "cell_type": "code",
   "execution_count": null,
   "id": "156bd6b1-c041-4685-b3d3-a96ffdb908de",
   "metadata": {},
   "outputs": [],
   "source": [
    "L1 = [1, 7, 4, -2, 3]\n",
    "\n",
    "def absolute(x):\n",
    "    if x >= 0:\n",
    "        return x\n",
    "    else:\n",
    "        return -x\n",
    "\n",
    "L2 = sorted(L1, key=absolute)\n",
    "print(L2)\n",
    "\n",
    "#or in reverse order\n",
    "print(sorted(L1, reverse=True, key=absolute))\n"
   ]
  },
  {
   "cell_type": "code",
   "execution_count": null,
   "id": "ba923dd4-8d65-4958-bafa-5db5a2e8bf37",
   "metadata": {},
   "outputs": [],
   "source": [
    "L1 = [1, 7, 4, -2, 3]\n",
    "\n",
    "def absolute(x):\n",
    "    print(\"--- figuring out what to write on the post-it note for \" + str(x))\n",
    "    if x >= 0:\n",
    "        return x\n",
    "    else:\n",
    "        return -x\n",
    "print(\"About to call sorted\")\n",
    "L2= sorted(L1, key=absolute)\n",
    "print(\"Finished execution of sorted\")\n",
    "print(L2)"
   ]
  },
  {
   "cell_type": "code",
   "execution_count": 13,
   "id": "f861a1ba-077a-4abe-8fd5-e6777ec51acf",
   "metadata": {},
   "outputs": [
    {
     "name": "stdout",
     "output_type": "stream",
     "text": [
      "About to call sorted\n",
      "--- figuring out what to write on the post-it note for 1\n",
      "--- figuring out what to write on the post-it note for 7\n",
      "--- figuring out what to write on the post-it note for 4\n",
      "--- figuring out what to write on the post-it note for -2\n",
      "--- figuring out what to write on the post-it note for 3\n",
      "Finished execution of sorted\n",
      "[1, -2, 3, 4, 7]\n"
     ]
    }
   ],
   "source": [
    "L1 = [1, 7, 4, -2, 3]\n",
    "\n",
    "def absolute(x):\n",
    "    print(\"--- figuring out what to write on the post-it note for \" + str(x))\n",
    "    if x >= 0:\n",
    "        return x\n",
    "    else:\n",
    "        return -x\n",
    "print(\"About to call sorted\")\n",
    "L2= sorted(L1, key= lambda x: absolute(x))\n",
    "print(\"Finished execution of sorted\")\n",
    "print(L2)"
   ]
  },
  {
   "cell_type": "code",
   "execution_count": null,
   "id": "e6b06f25-7eff-4988-8e9a-83be10479cd0",
   "metadata": {},
   "outputs": [],
   "source": []
  }
 ],
 "metadata": {
  "kernelspec": {
   "display_name": "Python 3 (ipykernel)",
   "language": "python",
   "name": "python3"
  },
  "language_info": {
   "codemirror_mode": {
    "name": "ipython",
    "version": 3
   },
   "file_extension": ".py",
   "mimetype": "text/x-python",
   "name": "python",
   "nbconvert_exporter": "python",
   "pygments_lexer": "ipython3",
   "version": "3.13.2"
  }
 },
 "nbformat": 4,
 "nbformat_minor": 5
}
