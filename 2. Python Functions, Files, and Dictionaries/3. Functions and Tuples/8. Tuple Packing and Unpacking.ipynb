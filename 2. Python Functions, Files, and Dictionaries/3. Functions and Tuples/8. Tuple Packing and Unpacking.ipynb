{
 "cells": [
  {
   "cell_type": "code",
   "execution_count": 1,
   "id": "be07fdf3-0333-494c-aa89-a1e9310ad916",
   "metadata": {},
   "outputs": [
    {
     "name": "stdout",
     "output_type": "stream",
     "text": [
      "2009\n"
     ]
    }
   ],
   "source": [
    "julia = (\"Julia\", \"Roberts\", 1967, \"Duplicity\", 2009, \"Actress\", \"Atlanta, Georgia\")\n",
    "# or equivalently\n",
    "julia = \"Julia\", \"Roberts\", 1967, \"Duplicity\", 2009, \"Actress\", \"Atlanta, Georgia\"\n",
    "print(julia[4])\n"
   ]
  },
  {
   "cell_type": "markdown",
   "id": "a33cde22-1ef6-44ea-9d6d-6fa765c9f96e",
   "metadata": {},
   "source": [
    "# Below, we have provided a list of tuples. Write a for loop that saves the second element of each tuple into a list called seconds. "
   ]
  },
  {
   "cell_type": "code",
   "execution_count": 2,
   "id": "4b680050-326b-473a-ac9d-0ec0133a6a64",
   "metadata": {},
   "outputs": [
    {
     "name": "stdout",
     "output_type": "stream",
     "text": [
      "['b', 7, 'green', 9.99, 'chipmunk']\n"
     ]
    }
   ],
   "source": [
    "tups = [('a', 'b', 'c'), (8, 7, 6, 5), ('blue', 'green', 'yellow', 'orange', 'red'), \n",
    "        (5.6, 9.99, 2.5, 8.2), ('squirrel', 'chipmunk')]\n",
    "\n",
    "seconds = []  # Initialize an empty list\n",
    "\n",
    "for tup in tups:\n",
    "    if len(tup) > 1:  # Ensure the tuple has at least two elements\n",
    "        seconds.append(tup[1])  # Append the second element\n",
    "\n",
    "print(seconds)\n"
   ]
  },
  {
   "cell_type": "markdown",
   "id": "67e0917d-d9b2-4cb1-b968-08cc74a50566",
   "metadata": {},
   "source": [
    "Tuples as Return Values"
   ]
  },
  {
   "cell_type": "code",
   "execution_count": 3,
   "id": "57d859aa-4719-4dc5-8c59-11b97958ceff",
   "metadata": {},
   "outputs": [
    {
     "name": "stdout",
     "output_type": "stream",
     "text": [
      "(62.8318, 314.159)\n"
     ]
    }
   ],
   "source": [
    "def circleInfo(r):\n",
    "    \"\"\" Return (circumference, area) of a circle of radius r \"\"\"\n",
    "    c = 2 * 3.14159 * r\n",
    "    a = 3.14159 * r * r\n",
    "    return (c, a)\n",
    "\n",
    "print(circleInfo(10))\n"
   ]
  },
  {
   "cell_type": "markdown",
   "id": "bd0ca22f-dd68-497f-9531-355cfa8fd7f2",
   "metadata": {},
   "source": [
    "# Tuple Assignment with Unpacking"
   ]
  },
  {
   "cell_type": "code",
   "execution_count": 7,
   "id": "9b377fac-051b-4978-9177-89f3a4c52eb2",
   "metadata": {},
   "outputs": [
    {
     "name": "stdout",
     "output_type": "stream",
     "text": [
      "Julia Duplicity Actress\n"
     ]
    }
   ],
   "source": [
    "julia = \"Julia\", \"Roberts\", 1967, \"Duplicity\", 2009, \"Actress\", \"Atlanta, Georgia\"\n",
    "\n",
    "name, surname, birth_year, movie, movie_year, profession, birth_place = julia\n",
    "print(name, movie, profession)"
   ]
  },
  {
   "cell_type": "code",
   "execution_count": null,
   "id": "a72ff111-425a-4614-b16a-77663f08d017",
   "metadata": {},
   "outputs": [],
   "source": [
    "(a, b, c, d) = (1, 2, 3,5) # ValueError: need more than 3 values to unpack\n"
   ]
  },
  {
   "cell_type": "markdown",
   "id": "2ea29fae-4601-4798-81f7-ad2502b4ec1a",
   "metadata": {},
   "source": [
    "# Swapping Values between Variables"
   ]
  },
  {
   "cell_type": "code",
   "execution_count": 8,
   "id": "0509bd20-9b4f-467d-9653-b3c7d1963961",
   "metadata": {},
   "outputs": [
    {
     "name": "stdout",
     "output_type": "stream",
     "text": [
      "2 1 1\n"
     ]
    }
   ],
   "source": [
    "a = 1\n",
    "b = 2\n",
    "temp = a\n",
    "a = b\n",
    "b = temp\n",
    "print(a, b, temp)\n"
   ]
  },
  {
   "cell_type": "code",
   "execution_count": 9,
   "id": "a9ba840f-63f9-42f8-a268-389885d95b65",
   "metadata": {},
   "outputs": [
    {
     "name": "stdout",
     "output_type": "stream",
     "text": [
      "2 1\n"
     ]
    }
   ],
   "source": [
    "a = 1\n",
    "b = 2\n",
    "(a, b) = (b, a)\n",
    "print(a, b)\n"
   ]
  },
  {
   "cell_type": "code",
   "execution_count": 10,
   "id": "e8b72182-2deb-4930-8b72-cf05af22d59a",
   "metadata": {},
   "outputs": [
    {
     "name": "stdout",
     "output_type": "stream",
     "text": [
      "first name: Paul last name: Resnick\n",
      "first name: Brad last name: Miller\n",
      "first name: Lauren last name: Murphy\n"
     ]
    }
   ],
   "source": [
    "authors = [('Paul', 'Resnick'), ('Brad', 'Miller'), ('Lauren', 'Murphy')]\n",
    "for first_name, last_name in authors:\n",
    "    print(\"first name:\", first_name, \"last name:\", last_name)\n"
   ]
  },
  {
   "cell_type": "markdown",
   "id": "8830c8d7-3eb8-4d26-b211-bd9f45c34c41",
   "metadata": {},
   "source": [
    "# Unpacking Tuples as Arguments to Function Calls"
   ]
  },
  {
   "cell_type": "code",
   "execution_count": 11,
   "id": "81a0283f-fbc7-401e-9bf5-5700fbc22e3b",
   "metadata": {},
   "outputs": [
    {
     "name": "stdout",
     "output_type": "stream",
     "text": [
      "7\n",
      "(5, 4)\n"
     ]
    }
   ],
   "source": [
    "def add(x, y):\n",
    "    return x + y\n",
    "\n",
    "print(add(3, 4))\n",
    "z = (5, 4)\n",
    "print(z) # this line causes an error\n"
   ]
  },
  {
   "cell_type": "code",
   "execution_count": null,
   "id": "1de89050-8d52-48d1-a081-f65e1aa96b79",
   "metadata": {},
   "outputs": [],
   "source": [
    "def add(x, y):\n",
    "    return x + y\n",
    "\n",
    "print(add(3, 4))\n",
    "z = (5, 4)\n",
    "print(add(*z)) # this line will cause the values to be unpacked\n"
   ]
  }
 ],
 "metadata": {
  "kernelspec": {
   "display_name": "Python 3 (ipykernel)",
   "language": "python",
   "name": "python3"
  },
  "language_info": {
   "codemirror_mode": {
    "name": "ipython",
    "version": 3
   },
   "file_extension": ".py",
   "mimetype": "text/x-python",
   "name": "python",
   "nbconvert_exporter": "python",
   "pygments_lexer": "ipython3",
   "version": "3.13.2"
  }
 },
 "nbformat": 4,
 "nbformat_minor": 5
}
