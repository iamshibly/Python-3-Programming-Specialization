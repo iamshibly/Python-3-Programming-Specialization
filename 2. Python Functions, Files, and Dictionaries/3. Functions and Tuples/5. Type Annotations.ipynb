{
 "cells": [
  {
   "cell_type": "code",
   "execution_count": null,
   "id": "dcc052fa-fd05-45db-aad2-30239e414029",
   "metadata": {},
   "outputs": [],
   "source": [
    "def duplicate(msg: str) ->str:\n",
    "    \"\"\"Returns a string containing two copies of `msg`\"\"\"\n",
    "\n",
    "    return msg +\" \"+ msg\n",
    "\n",
    "result = duplicate('Hello')\n",
    "print(result)\n"
   ]
  },
  {
   "cell_type": "code",
   "execution_count": null,
   "id": "5df11ef1-596c-4e39-9561-6b7e878d1e54",
   "metadata": {},
   "outputs": [],
   "source": [
    "def add(x: int, y: int) -> int:\n",
    "    \"\"\"Returns the sum of `x` and `y`\"\"\"\n",
    "\n",
    "    return x + y\n",
    "\n",
    "def get_number(msg: str) -> float:\n",
    "    \"\"\"Prompts with `msg` for input; returns numeric response.\"\"\"\n",
    "\n",
    "    return float(input(msg))\n",
    "\n",
    "def display_msg(msg: str):\n",
    "    \"\"\"Displays `msg` with dashed line underneath\"\"\"\n",
    "\n",
    "    print(msg)\n",
    "    print('-------------------------------------')\n",
    "print(add(6,8))\n",
    "print(get_number(\"lol\"))\n",
    "display_msg('dhur')"
   ]
  },
  {
   "cell_type": "code",
   "execution_count": null,
   "id": "23d5b4f8-8c6c-47f9-8d18-de2012cf500a",
   "metadata": {},
   "outputs": [],
   "source": [
    "def count_words(text: str) -> dict[str, int]:\n",
    "    words = text.split()\n",
    "    d = {}\n",
    "    for word in words:\n",
    "        if word not in d:\n",
    "            d[word] = 1\n",
    "        else:\n",
    "            d[word] += 1\n",
    "    return d\n",
    "print(count_words(\"hoooo\"))"
   ]
  },
  {
   "cell_type": "code",
   "execution_count": 16,
   "id": "7bb0eafe-46ef-427e-a571-039d434dd162",
   "metadata": {},
   "outputs": [
    {
     "name": "stdout",
     "output_type": "stream",
     "text": [
      "14.9\n"
     ]
    }
   ],
   "source": [
    "def add_em_up(nums: list[int|float]) -> int|float:\n",
    "        tot = 0\n",
    "        for num in nums:\n",
    "            tot += num\n",
    "        return tot\n",
    "print(add_em_up([2.3,3,4,5.6]))"
   ]
  },
  {
   "cell_type": "code",
   "execution_count": null,
   "id": "0cad8cd8-946a-4e42-b04f-ada2c09b4852",
   "metadata": {},
   "outputs": [],
   "source": [
    "def add_em_up(nums: list[int]) -> float:\n",
    "    tot = 0\n",
    "    for num in nums:\n",
    "        tot += num\n",
    "        \n",
    "    return float(tot)\n",
    "print(add_em_up([3,4,6]))"
   ]
  }
 ],
 "metadata": {
  "kernelspec": {
   "display_name": "Python 3 (ipykernel)",
   "language": "python",
   "name": "python3"
  },
  "language_info": {
   "codemirror_mode": {
    "name": "ipython",
    "version": 3
   },
   "file_extension": ".py",
   "mimetype": "text/x-python",
   "name": "python",
   "nbconvert_exporter": "python",
   "pygments_lexer": "ipython3",
   "version": "3.13.2"
  }
 },
 "nbformat": 4,
 "nbformat_minor": 5
}
