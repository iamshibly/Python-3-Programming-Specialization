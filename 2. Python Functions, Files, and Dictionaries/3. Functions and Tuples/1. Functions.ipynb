{
 "cells": [
  {
   "cell_type": "code",
   "execution_count": null,
   "id": "100119ce-cb8a-4d11-bc70-3e399428e917",
   "metadata": {},
   "outputs": [],
   "source": [
    "def good():\n",
    "    print(\"bad\")\n",
    "    print(\"sad\")\n",
    "good()\n",
    "good()"
   ]
  },
  {
   "cell_type": "code",
   "execution_count": 1,
   "id": "acd64344-8ab1-402a-b023-998bf652a18b",
   "metadata": {},
   "outputs": [],
   "source": [
    "import turtle\n",
    "\n",
    "def drawSquare(t, sz):\n",
    "    \"\"\"Make turtle t draw a square of with side sz.\"\"\"\n",
    "\n",
    "    for i in range(6):\n",
    "        t.forward(sz)\n",
    "        t.backward(20)\n",
    "        t.left(150)\n",
    "\n",
    "\n",
    "wn = turtle.Screen()      # Set up the window and its attributes\n",
    "wn.bgcolor(\"lightgreen\")\n",
    "\n",
    "alex = turtle.Turtle()    # create alex\n",
    "drawSquare(alex, 50)      # Call the function to draw the square passing the actual turtle and the actual side size\n",
    "\n",
    "wn.exitonclick()\n"
   ]
  },
  {
   "cell_type": "code",
   "execution_count": 3,
   "id": "052e7345-125f-4693-9d66-9d938d105ead",
   "metadata": {},
   "outputs": [
    {
     "name": "stdout",
     "output_type": "stream",
     "text": [
      "['106', 'students', 'are', 'awesome']\n",
      "['Michigan', 'Wolverines', 'are', 'awesome']\n"
     ]
    }
   ],
   "source": [
    "def changeit(lst):\n",
    "\t   lst[0] = \"Michigan\"\n",
    "\t   lst[1] = \"Wolverines\"\n",
    "\t   return lst\n",
    "\t\n",
    "mylst = ['106', 'students', 'are', 'awesome']\n",
    "newlst = changeit(list(mylst))\n",
    "print(mylst)\n",
    "print(newlst)"
   ]
  },
  {
   "cell_type": "code",
   "execution_count": null,
   "id": "6eea5259-435f-4d25-b02a-d9622676b4b0",
   "metadata": {},
   "outputs": [],
   "source": []
  }
 ],
 "metadata": {
  "kernelspec": {
   "display_name": "Python 3 (ipykernel)",
   "language": "python",
   "name": "python3"
  },
  "language_info": {
   "codemirror_mode": {
    "name": "ipython",
    "version": 3
   },
   "file_extension": ".py",
   "mimetype": "text/x-python",
   "name": "python",
   "nbconvert_exporter": "python",
   "pygments_lexer": "ipython3",
   "version": "3.13.2"
  }
 },
 "nbformat": 4,
 "nbformat_minor": 5
}
