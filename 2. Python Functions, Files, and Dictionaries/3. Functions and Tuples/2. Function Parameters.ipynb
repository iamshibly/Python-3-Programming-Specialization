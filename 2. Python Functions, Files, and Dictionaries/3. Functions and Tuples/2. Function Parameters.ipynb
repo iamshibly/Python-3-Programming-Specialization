{
 "cells": [
  {
   "cell_type": "code",
   "execution_count": 1,
   "id": "609ddef4-e3cb-4c6f-8499-c4529e028a8e",
   "metadata": {},
   "outputs": [
    {
     "name": "stdout",
     "output_type": "stream",
     "text": [
      "Hello Joy\n",
      "Glad to meet you\n"
     ]
    }
   ],
   "source": [
    "def hello2(s):\n",
    "   print(\"Hello \" + s)\n",
    "   print(\"Glad to meet you\")\n",
    "hello2(\"Joy\")"
   ]
  },
  {
   "cell_type": "code",
   "execution_count": 7,
   "id": "66309d4c-cf69-492a-9885-d67a1c1ce4e0",
   "metadata": {},
   "outputs": [
    {
     "name": "stdout",
     "output_type": "stream",
     "text": [
      "sui CR7 and Portugal\n",
      "joss\n",
      "sui Real madrid Real madrid Real madrid \n",
      "joss\n"
     ]
    }
   ],
   "source": [
    "def nope(s):\n",
    "    print(\"sui \"+s)\n",
    "    print(\"joss\")\n",
    "nope(\"CR7 \"+ \"and Portugal\")\n",
    "nope(\"Real madrid \" * 3)"
   ]
  },
  {
   "cell_type": "code",
   "execution_count": 8,
   "id": "1bc96dde-8766-42aa-8c98-391d37531b7f",
   "metadata": {},
   "outputs": [
    {
     "name": "stdout",
     "output_type": "stream",
     "text": [
      "Hello Wei Hello Wei Hello Wei Hello Wei \n",
      "Hello  \n",
      "Hello Kitty Hello Kitty Hello Kitty Hello Kitty Hello Kitty Hello Kitty Hello Kitty Hello Kitty Hello Kitty Hello Kitty Hello Kitty \n"
     ]
    }
   ],
   "source": [
    "def hello3(s, n):\n",
    "    greeting = \"Hello {} \".format(s)\n",
    "    print(greeting*n)\n",
    "hello3(\"Wei\", 4)\n",
    "hello3(\"\", 1)\n",
    "hello3(\"Kitty\", 11)"
   ]
  },
  {
   "cell_type": "code",
   "execution_count": null,
   "id": "f446cd5b-0662-4450-8310-33da14fcc57f",
   "metadata": {},
   "outputs": [],
   "source": []
  }
 ],
 "metadata": {
  "kernelspec": {
   "display_name": "Python 3 (ipykernel)",
   "language": "python",
   "name": "python3"
  },
  "language_info": {
   "codemirror_mode": {
    "name": "ipython",
    "version": 3
   },
   "file_extension": ".py",
   "mimetype": "text/x-python",
   "name": "python",
   "nbconvert_exporter": "python",
   "pygments_lexer": "ipython3",
   "version": "3.13.2"
  }
 },
 "nbformat": 4,
 "nbformat_minor": 5
}
