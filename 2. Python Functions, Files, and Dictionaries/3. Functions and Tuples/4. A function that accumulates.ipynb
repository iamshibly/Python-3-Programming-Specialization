{
 "cells": [
  {
   "cell_type": "code",
   "execution_count": 5,
   "id": "008c2d2c-9eb4-49b5-b1e6-b7bfaa1af1b2",
   "metadata": {},
   "outputs": [
    {
     "name": "stdout",
     "output_type": "stream",
     "text": [
      "5\n",
      "11\n",
      "18\n",
      "18\n",
      "18\n"
     ]
    }
   ],
   "source": [
    "def a_func(list):\n",
    "    totall=0\n",
    "    for ok in list:\n",
    "        totall=totall+ok\n",
    "        print(totall)\n",
    "    print(totall)\n",
    "    return totall\n",
    "\n",
    "\n",
    "list=[5,6,7]\n",
    "\n",
    "print(a_func(list))"
   ]
  },
  {
   "cell_type": "code",
   "execution_count": 6,
   "id": "0f99f2ac-345a-474e-b504-5b8468d39c5c",
   "metadata": {},
   "outputs": [
    {
     "name": "stdout",
     "output_type": "stream",
     "text": [
      "total num in list is:  5\n"
     ]
    },
    {
     "data": {
      "text/plain": [
       "5"
      ]
     },
     "execution_count": 6,
     "metadata": {},
     "output_type": "execute_result"
    }
   ],
   "source": [
    "def count(a):\n",
    "    count=0\n",
    "    for lol in a:\n",
    "        count=count+1\n",
    "    print(\"total num in list is: \",count)\n",
    "    return count\n",
    "    \n",
    "\n",
    "list=[3,5,6,8,9]\n",
    "count(list)"
   ]
  },
  {
   "cell_type": "code",
   "execution_count": null,
   "id": "d58577df-8c7d-403f-b64d-449977d6f52c",
   "metadata": {},
   "outputs": [],
   "source": []
  }
 ],
 "metadata": {
  "kernelspec": {
   "display_name": "Python 3 (ipykernel)",
   "language": "python",
   "name": "python3"
  },
  "language_info": {
   "codemirror_mode": {
    "name": "ipython",
    "version": 3
   },
   "file_extension": ".py",
   "mimetype": "text/x-python",
   "name": "python",
   "nbconvert_exporter": "python",
   "pygments_lexer": "ipython3",
   "version": "3.13.2"
  }
 },
 "nbformat": 4,
 "nbformat_minor": 5
}
