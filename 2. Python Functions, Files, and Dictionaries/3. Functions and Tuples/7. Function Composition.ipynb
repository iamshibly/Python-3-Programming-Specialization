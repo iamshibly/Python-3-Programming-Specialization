{
 "cells": [
  {
   "cell_type": "code",
   "execution_count": 1,
   "id": "f25e55d4-951c-4231-ad4e-901ab5ce9a55",
   "metadata": {},
   "outputs": [
    {
     "name": "stdout",
     "output_type": "stream",
     "text": [
      "129\n"
     ]
    }
   ],
   "source": [
    "def square(x):\n",
    "\t    y = x * x\n",
    "\t    return y\n",
    "\t\n",
    "def sum_of_squares(x,y,z):\n",
    "\t    a = square(x)\n",
    "\t    b = square(y)\n",
    "\t    c = square(z)\n",
    "\t\n",
    "\t    return a+b+c\n",
    "a = -5\n",
    "b = 2\n",
    "c = 10\n",
    "result = sum_of_squares(a,b,c)\n",
    "print(result)"
   ]
  },
  {
   "cell_type": "code",
   "execution_count": 2,
   "id": "0957a839-7e1e-48e8-b33c-1f8e9a75a028",
   "metadata": {},
   "outputs": [
    {
     "name": "stdout",
     "output_type": "stream",
     "text": [
      "b\n"
     ]
    }
   ],
   "source": [
    "def most_common_letter(s):\n",
    "    frequencies = count_freqs(s)\n",
    "    return best_key(frequencies)\n",
    "\n",
    "def count_freqs(st):\n",
    "    d = {}\n",
    "    for c in st:\n",
    "        if c not in d:\n",
    "             d[c] = 0\n",
    "        d[c] = d[c] + 1\n",
    "    return d\n",
    "\n",
    "def best_key(dictionary):\n",
    "    ks = dictionary.keys()\n",
    "    best_key_so_far = list(ks)[0]  # Have to turn ks into a real list before using [] to select an item\n",
    "    for k in ks:\n",
    "        if dictionary[k] > dictionary[best_key_so_far]:\n",
    "            best_key_so_far = k\n",
    "    return best_key_so_far\n",
    "\n",
    "print(most_common_letter(\"abbbbbbbbbbbccccddddd\"))\n"
   ]
  },
  {
   "cell_type": "code",
   "execution_count": 3,
   "id": "7521df7f-86ac-4d97-9d85-13c2bc25c904",
   "metadata": {},
   "outputs": [
    {
     "name": "stdout",
     "output_type": "stream",
     "text": [
      "25\n"
     ]
    }
   ],
   "source": [
    "def pow(b, p):\n",
    "    y = b ** p\n",
    "    return y\n",
    "\n",
    "def square(x):\n",
    "    a = pow(x, 2)\n",
    "    return a\n",
    "\n",
    "n = 5\n",
    "result = square(n)\n",
    "print(result)"
   ]
  },
  {
   "cell_type": "code",
   "execution_count": null,
   "id": "25bb562d-1bb2-4d25-9c72-a7a9855c354e",
   "metadata": {},
   "outputs": [],
   "source": []
  }
 ],
 "metadata": {
  "kernelspec": {
   "display_name": "Python 3 (ipykernel)",
   "language": "python",
   "name": "python3"
  },
  "language_info": {
   "codemirror_mode": {
    "name": "ipython",
    "version": 3
   },
   "file_extension": ".py",
   "mimetype": "text/x-python",
   "name": "python",
   "nbconvert_exporter": "python",
   "pygments_lexer": "ipython3",
   "version": "3.13.2"
  }
 },
 "nbformat": 4,
 "nbformat_minor": 5
}
