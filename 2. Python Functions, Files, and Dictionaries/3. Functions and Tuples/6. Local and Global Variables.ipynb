{
 "cells": [
  {
   "cell_type": "code",
   "execution_count": 2,
   "id": "b72232cd-6473-4405-a351-a73cbe6d0952",
   "metadata": {},
   "outputs": [
    {
     "name": "stdout",
     "output_type": "stream",
     "text": [
      "5\n"
     ]
    }
   ],
   "source": [
    "#local\n",
    "def square(x):\n",
    "    y = x * x\n",
    "    return y\n",
    "y=5\n",
    "z = square(10)\n",
    "print(y)\n"
   ]
  },
  {
   "cell_type": "code",
   "execution_count": 3,
   "id": "25fac72a-643e-4429-b54d-5150a292de66",
   "metadata": {},
   "outputs": [
    {
     "name": "stdout",
     "output_type": "stream",
     "text": [
      "100\n"
     ]
    }
   ],
   "source": [
    "#global\n",
    "def square(x):\n",
    "    global y\n",
    "    y = x * x\n",
    "    return y\n",
    "y=5\n",
    "z = square(10)\n",
    "print(y)"
   ]
  },
  {
   "cell_type": "code",
   "execution_count": null,
   "id": "c3c0bc5a-df81-49b8-a897-eaa98056d006",
   "metadata": {},
   "outputs": [],
   "source": [
    "numbers = [1, 12, 13, 4]\n",
    "def foo(bar):\n",
    "    aug = str(bar) + \"street\"#aug and bar are local\n",
    "    return aug\n",
    "\n",
    "addresses = []\n",
    "for item in numbers:\n",
    "    addresses.append(foo(item))#item, numbers and address are global"
   ]
  },
  {
   "cell_type": "code",
   "execution_count": 4,
   "id": "2f498ec0-3bf3-4373-aafc-6fb1df5bb4b7",
   "metadata": {},
   "outputs": [
    {
     "name": "stdout",
     "output_type": "stream",
     "text": [
      "100\n",
      "2\n"
     ]
    }
   ],
   "source": [
    "def powerof(x,p):\n",
    "\t    global power  # a really...\n",
    "\t    power = p     # ...bad idea, but valid code\n",
    "\t    y = x ** power\n",
    "\t    return y\n",
    "\t\n",
    "power = 3\n",
    "result = powerof(10,2)\n",
    "print(result)\n",
    "print(power)"
   ]
  },
  {
   "cell_type": "code",
   "execution_count": null,
   "id": "cc9261f1-56b3-475c-8f5b-6179a88d0d7e",
   "metadata": {},
   "outputs": [],
   "source": []
  }
 ],
 "metadata": {
  "kernelspec": {
   "display_name": "Python 3 (ipykernel)",
   "language": "python",
   "name": "python3"
  },
  "language_info": {
   "codemirror_mode": {
    "name": "ipython",
    "version": 3
   },
   "file_extension": ".py",
   "mimetype": "text/x-python",
   "name": "python",
   "nbconvert_exporter": "python",
   "pygments_lexer": "ipython3",
   "version": "3.13.2"
  }
 },
 "nbformat": 4,
 "nbformat_minor": 5
}
