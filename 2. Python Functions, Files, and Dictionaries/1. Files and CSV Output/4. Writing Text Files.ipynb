{
 "cells": [
  {
   "cell_type": "code",
   "execution_count": 8,
   "id": "25bb4bb2-7264-4917-a73d-e4058e1754f2",
   "metadata": {},
   "outputs": [
    {
     "name": "stdout",
     "output_type": "stream",
     "text": [
      "1\n",
      "4\n",
      "9\n"
     ]
    }
   ],
   "source": [
    "filename = \"squared_numbers.txt\"\n",
    "outfile = open(filename, \"w\")\n",
    "\n",
    "for number in range(1, 13):\n",
    "    square = number * number\n",
    "    outfile.write(str(square))\n",
    "    outfile.write('\\n')\n",
    "\n",
    "outfile.close()\n",
    "\n",
    "new_file= open(\"squared_numbers.txt\",'r')\n",
    "print(new_file.read()[:5])\n",
    "new_file.close()\n",
    "      "
   ]
  },
  {
   "cell_type": "markdown",
   "id": "ecd66a08-dc31-44ae-91cb-ec672be1a406",
   "metadata": {},
   "source": [
    "# File by using with"
   ]
  },
  {
   "cell_type": "code",
   "execution_count": 10,
   "id": "f7151532-6aff-4f1c-8840-5cd9186e710a",
   "metadata": {},
   "outputs": [
    {
     "name": "stdout",
     "output_type": "stream",
     "text": [
      "1 2 3\n",
      "\n",
      "4 5 6\n",
      "\n"
     ]
    }
   ],
   "source": [
    "with open(\"mydata.txt\",'r') as md:\n",
    "    for line in md:\n",
    "        #md. read\n",
    "        #md.readlines()\n",
    "        #md.readline()\n",
    "        print(line)"
   ]
  },
  {
   "cell_type": "code",
   "execution_count": 13,
   "id": "82981fe8-bfc4-4587-8431-550eee4fd947",
   "metadata": {},
   "outputs": [],
   "source": [
    "with open(\"mydata2.txt\",'w') as md:\n",
    "    for us in range(1,13):\n",
    "        md.write(str(us)+'\\n')"
   ]
  },
  {
   "cell_type": "code",
   "execution_count": null,
   "id": "432c18a2-58ce-4081-879f-e8c6c47d1444",
   "metadata": {},
   "outputs": [],
   "source": []
  }
 ],
 "metadata": {
  "kernelspec": {
   "display_name": "Python 3 (ipykernel)",
   "language": "python",
   "name": "python3"
  },
  "language_info": {
   "codemirror_mode": {
    "name": "ipython",
    "version": 3
   },
   "file_extension": ".py",
   "mimetype": "text/x-python",
   "name": "python",
   "nbconvert_exporter": "python",
   "pygments_lexer": "ipython3",
   "version": "3.13.2"
  }
 },
 "nbformat": 4,
 "nbformat_minor": 5
}
