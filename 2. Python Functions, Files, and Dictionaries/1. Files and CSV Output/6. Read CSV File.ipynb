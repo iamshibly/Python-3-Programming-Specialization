{
 "cells": [
  {
   "cell_type": "markdown",
   "id": "acb7f67d-daed-4fd3-8d29-82090d3e3ea9",
   "metadata": {},
   "source": [
    "# Read with CSV"
   ]
  },
  {
   "cell_type": "code",
   "execution_count": null,
   "id": "c1c2ca28-1fe4-497f-b925-80d08b70a281",
   "metadata": {},
   "outputs": [],
   "source": [
    "fileconnection = open(\"olympic_athletes.csv\", 'r')\n",
    "lines = fileconnection.readlines()\n",
    "\n",
    "headers = lines[0]\n",
    "print(headers)\n",
    "field_names = headers.strip().split(',')\n",
    "print(field_names)\n",
    "\n",
    "for row in lines[1:]:\n",
    "    row_vals = row.strip().split(',')\n",
    "    if row_vals[5] != \"NA\":\n",
    "        print(row_vals[0]+\" \"+row_vals[1]+\" \"+row_vals[2]+\" \"+row_vals[3]+\" \"+row_vals[4]+\" \"+row_vals[5])"
   ]
  },
  {
   "cell_type": "markdown",
   "id": "7ad49572-5f3b-46c0-bd93-6c6189fcdb8c",
   "metadata": {},
   "source": [
    "# Reading a .csv file with the csv module"
   ]
  },
  {
   "cell_type": "code",
   "execution_count": null,
   "id": "37556d01-3c3e-486c-8074-5d052ae5ba40",
   "metadata": {},
   "outputs": [],
   "source": [
    "import csv\n",
    "\n",
    "        "
   ]
  },
  {
   "cell_type": "code",
   "execution_count": null,
   "id": "2a9b2c2d-b9de-49b9-b1c9-1b18c549ff93",
   "metadata": {},
   "outputs": [],
   "source": [
    "fileconnection = open(\"olympic_athletes.csv\", 'r')\n",
    "reader = csv.reader(fileconnection)\n",
    "rows = list(reader)\n",
    "headers = rows[0]\n",
    "# headers is already a list; csv.reader handled parsing of comma separated values\n",
    "print(headers)\n",
    "\n",
    "for row_vals in rows[1:]:\n",
    "    # each row is already a list, not a string\n",
    "    if row_vals[5] != \"NA\":\n",
    "        print(f\"{row_vals[0]}: {row_vals[4]}; {row_vals[5]}\")"
   ]
  },
  {
   "cell_type": "markdown",
   "id": "c5db746b-134f-44fd-9fa1-c7fd61c6ad03",
   "metadata": {},
   "source": [
    "# Using with open"
   ]
  },
  {
   "cell_type": "code",
   "execution_count": null,
   "id": "07005a0e-392f-4e0b-9d22-786ac9053303",
   "metadata": {},
   "outputs": [],
   "source": [
    "with open(\"olympic_athletes.csv\", 'r') as f:\n",
    "    reader = csv.reader(f)\n",
    "    headers = next(reader)  # use next to get first row   \n",
    "    print(headers)\n",
    "    for row in reader:  # iterate through remaining rows\n",
    "        if row[5] != \"NA\":\n",
    "            print(f\"{row[0]}: {row[4]}; {row[5]}\")    \n",
    "    # close is handled automatically when we use the with block\n"
   ]
  },
  {
   "cell_type": "code",
   "execution_count": null,
   "id": "8a70d116-2ad3-48a8-a773-4d86b12c25a2",
   "metadata": {},
   "outputs": [],
   "source": []
  }
 ],
 "metadata": {
  "kernelspec": {
   "display_name": "Python 3 (ipykernel)",
   "language": "python",
   "name": "python3"
  },
  "language_info": {
   "codemirror_mode": {
    "name": "ipython",
    "version": 3
   },
   "file_extension": ".py",
   "mimetype": "text/x-python",
   "name": "python",
   "nbconvert_exporter": "python",
   "pygments_lexer": "ipython3",
   "version": "3.13.2"
  }
 },
 "nbformat": 4,
 "nbformat_minor": 5
}
