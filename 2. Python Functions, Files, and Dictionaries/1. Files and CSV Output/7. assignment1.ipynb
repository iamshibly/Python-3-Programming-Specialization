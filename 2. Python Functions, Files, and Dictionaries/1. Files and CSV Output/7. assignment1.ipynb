{
 "cells": [
  {
   "cell_type": "markdown",
   "id": "43655822",
   "metadata": {
    "deletable": false,
    "editable": false,
    "nbgrader": {
     "cell_type": "markdown",
     "checksum": "32f77bf0db3353bb290038a8728c0728",
     "grade": false,
     "grade_id": "cell-145e0cf381c86c2d",
     "locked": true,
     "schema_version": 3,
     "solution": false,
     "task": false
    }
   },
   "source": [
    "# Assignment 1\n",
    "\n",
    "Files and CSV"
   ]
  },
  {
   "cell_type": "markdown",
   "id": "6020a225",
   "metadata": {
    "deletable": false,
    "editable": false,
    "nbgrader": {
     "cell_type": "markdown",
     "checksum": "10639a642a2a92a74a5760bfa94ca07a",
     "grade": false,
     "grade_id": "cell-10a9685e58901ba6",
     "locked": true,
     "schema_version": 3,
     "solution": false,
     "task": false
    }
   },
   "source": [
    " The textfile, `assets/travel_plans.txt`, contains the summer travel plans for someone with some commentary. Find the total number of characters in the file and save to the variable `num`."
   ]
  },
  {
   "cell_type": "code",
   "execution_count": 2,
   "id": "bed876e2",
   "metadata": {
    "deletable": false,
    "nbgrader": {
     "cell_type": "code",
     "checksum": "a2bddbbe166f862ccdf8b8895cca550c",
     "grade": false,
     "grade_id": "cell-774c27f815c07a1e",
     "locked": false,
     "schema_version": 3,
     "solution": true,
     "task": false
    }
   },
   "outputs": [
    {
     "name": "stdout",
     "output_type": "stream",
     "text": [
      "316\n"
     ]
    }
   ],
   "source": [
    "num = None\n",
    "\n",
    "# YOUR CODE HERE\n",
    "ab = open(\"assets/travel_plans.txt\",'r')\n",
    "gb = ab.read()\n",
    "num=len(gb)\n",
    "print(num)"
   ]
  },
  {
   "cell_type": "markdown",
   "id": "c67178aa",
   "metadata": {},
   "source": [
    "Sometimes, as in the next cell, we will show you one or more test cases, in the form of assert statements. Make sure your code pass those tests before you click the \"Submit Assignment\" button.\n",
    "\n",
    "When you click the \"Submit Assignment\" button, there may be additional, hidden tests that are run. If you fail one of those tests, you will get feedback and can resubmit, as many times as you want, until you get them all right.\n",
    "\n",
    "But it takes a little while for the auto grader to run. You will find it is faster, less frustrating, and more educational if you create additional tests of your own, either with assert statements or just print statements. That will give you a faster feedback-and-fix cycle; and formulating those tests will help you really understand what's going on. "
   ]
  },
  {
   "cell_type": "code",
   "execution_count": 3,
   "id": "be9e8f8f",
   "metadata": {
    "deletable": false,
    "editable": false,
    "nbgrader": {
     "cell_type": "code",
     "checksum": "7b2c9eb6a514b622d983dab3712837f6",
     "grade": true,
     "grade_id": "cell-05ae8996efdc7e7b",
     "locked": true,
     "points": 1,
     "schema_version": 3,
     "solution": false,
     "task": false
    }
   },
   "outputs": [],
   "source": [
    "assert num == 316, \"num is not assigned the correct value\"\n"
   ]
  },
  {
   "cell_type": "markdown",
   "id": "e5d6c415",
   "metadata": {
    "deletable": false,
    "editable": false,
    "nbgrader": {
     "cell_type": "markdown",
     "checksum": "085966478d9eb3a2601f083aac0c7319",
     "grade": false,
     "grade_id": "cell-5c733f1a244c00e9",
     "locked": true,
     "schema_version": 3,
     "solution": false,
     "task": false
    }
   },
   "source": [
    "We have provided a file called `assets/emotion_words.txt` that contains lines of words that describe emotions. Find the total number of words in the file and assign this value to the variable `num_words`."
   ]
  },
  {
   "cell_type": "code",
   "execution_count": 4,
   "id": "1f02be84",
   "metadata": {
    "deletable": false,
    "nbgrader": {
     "cell_type": "code",
     "checksum": "9851fc48179fa3f030ed514cec9271a1",
     "grade": false,
     "grade_id": "cell-0e1c86fffdf89e01",
     "locked": false,
     "schema_version": 3,
     "solution": true,
     "task": false
    }
   },
   "outputs": [
    {
     "name": "stdout",
     "output_type": "stream",
     "text": [
      "48\n"
     ]
    }
   ],
   "source": [
    "num_words = None\n",
    "\n",
    "# YOUR CODE HERE\n",
    "ab = open(\"assets/emotion_words.txt\",'r')\n",
    "gb = ab.read()\n",
    "num_words=len(gb.split())\n",
    "print(num_words)"
   ]
  },
  {
   "cell_type": "code",
   "execution_count": null,
   "id": "8db19900",
   "metadata": {
    "deletable": false,
    "editable": false,
    "nbgrader": {
     "cell_type": "code",
     "checksum": "30d6761d44bbc59ad28ecaa40531f912",
     "grade": true,
     "grade_id": "cell-7897d83bc4e61c17",
     "locked": true,
     "points": 1,
     "schema_version": 3,
     "solution": false,
     "task": false
    }
   },
   "outputs": [],
   "source": [
    "assert num_words == 48, \"num_words is not assigned the correct value\""
   ]
  },
  {
   "cell_type": "markdown",
   "id": "1c4fba1b",
   "metadata": {
    "deletable": false,
    "editable": false,
    "nbgrader": {
     "cell_type": "markdown",
     "checksum": "49af7b739be407a28f5c3c02de45980a",
     "grade": false,
     "grade_id": "cell-89b1ab6d732c180b",
     "locked": true,
     "schema_version": 3,
     "solution": false,
     "task": false
    }
   },
   "source": [
    "Assign to the variable `num_lines` the number of lines in the file `assets/school_prompt.txt`.\n",
    "\n",
    "**Note: different file than the previous question!**"
   ]
  },
  {
   "cell_type": "code",
   "execution_count": 20,
   "id": "ce8f40dd",
   "metadata": {
    "deletable": false,
    "nbgrader": {
     "cell_type": "code",
     "checksum": "619c7d52db3dade8e54375bb7434224a",
     "grade": false,
     "grade_id": "cell-75b61aedfeb412a9",
     "locked": false,
     "schema_version": 3,
     "solution": true,
     "task": false
    }
   },
   "outputs": [
    {
     "name": "stdout",
     "output_type": "stream",
     "text": [
      "10\n"
     ]
    }
   ],
   "source": [
    "num_lines = None\n",
    "\n",
    "# YOUR CODE HERE\n",
    "ok = open(\"assets/school_prompt.txt\",'r')\n",
    "cnt=0\n",
    "for ba in ok:\n",
    "    cnt+=1\n",
    "print(cnt)\n",
    "    "
   ]
  },
  {
   "cell_type": "code",
   "execution_count": 21,
   "id": "0118b3f0-ddee-40a7-b9ce-e58e5d6c10c1",
   "metadata": {
    "tags": []
   },
   "outputs": [
    {
     "name": "stdout",
     "output_type": "stream",
     "text": [
      "10\n"
     ]
    }
   ],
   "source": [
    "num_lines=cnt\n",
    "print(num_lines)"
   ]
  },
  {
   "cell_type": "code",
   "execution_count": null,
   "id": "6591ab4d",
   "metadata": {
    "deletable": false,
    "editable": false,
    "nbgrader": {
     "cell_type": "code",
     "checksum": "cd4d4fd223f6302fa604676d274893a2",
     "grade": true,
     "grade_id": "cell-9122382cacdf4dda",
     "locked": true,
     "points": 1,
     "schema_version": 3,
     "solution": false,
     "task": false
    }
   },
   "outputs": [],
   "source": [
    "assert num_lines == 10, \"num_lines is not assigned the correct value\""
   ]
  },
  {
   "cell_type": "markdown",
   "id": "a1bc41ac",
   "metadata": {
    "deletable": false,
    "editable": false,
    "nbgrader": {
     "cell_type": "markdown",
     "checksum": "5aa404ef5d9f482485dd7f8f0425a893",
     "grade": false,
     "grade_id": "cell-36ca28b985a4f98f",
     "locked": true,
     "schema_version": 3,
     "solution": false,
     "task": false
    }
   },
   "source": [
    "Assign the first 30 characters of `assets/school_prompt.txt` as a string to the variable `beginning_chars`."
   ]
  },
  {
   "cell_type": "code",
   "execution_count": 7,
   "id": "d97ca7c4",
   "metadata": {
    "deletable": false,
    "nbgrader": {
     "cell_type": "code",
     "checksum": "315927617a2c2b56522932caaa634104",
     "grade": false,
     "grade_id": "cell-4836ee01c51ef411",
     "locked": false,
     "schema_version": 3,
     "solution": true,
     "task": false
    }
   },
   "outputs": [
    {
     "name": "stdout",
     "output_type": "stream",
     "text": [
      "Writing essays for school can \n"
     ]
    }
   ],
   "source": [
    "beginning_chars = None\n",
    "\n",
    "# YOUR CODE HERE\n",
    "\n",
    "# Open the file and read the first 30 characters\n",
    "with open(\"assets/school_prompt.txt\", \"r\") as file:\n",
    "    beginning_chars = file.read(30)  # Read only the first 30 characters\n",
    "\n",
    "print(beginning_chars)  # Output the result\n"
   ]
  },
  {
   "cell_type": "code",
   "execution_count": 8,
   "id": "b5f81a8e",
   "metadata": {
    "deletable": false,
    "editable": false,
    "nbgrader": {
     "cell_type": "code",
     "checksum": "20b9f5b4c43dcbf99b0ee9d209db2e2b",
     "grade": true,
     "grade_id": "cell-dae2a8b130911b15",
     "locked": true,
     "points": 1,
     "schema_version": 3,
     "solution": false,
     "task": false
    }
   },
   "outputs": [],
   "source": [
    "assert type(beginning_chars) == type(\"\"), \"beginning_chars is not a string\"\n",
    "assert len(beginning_chars) == 30, \"beginning_chars is not assigned the correct length\""
   ]
  },
  {
   "cell_type": "markdown",
   "id": "9cb17dc4",
   "metadata": {
    "deletable": false,
    "editable": false,
    "nbgrader": {
     "cell_type": "markdown",
     "checksum": "93c26df54406a7007c1ff81e52540bc9",
     "grade": false,
     "grade_id": "cell-8f095d0c116e1634",
     "locked": true,
     "schema_version": 3,
     "solution": false,
     "task": false
    }
   },
   "source": [
    "**Challenge:** Using the file `assets/school_prompt.txt`, assign the third word of every line to a list called `three`."
   ]
  },
  {
   "cell_type": "code",
   "execution_count": 9,
   "id": "25b90818",
   "metadata": {
    "deletable": false,
    "nbgrader": {
     "cell_type": "code",
     "checksum": "6e71dce216955b7d80488ef8c37706be",
     "grade": false,
     "grade_id": "cell-3e6fa54e4fe79a87",
     "locked": false,
     "schema_version": 3,
     "solution": true,
     "task": false
    }
   },
   "outputs": [
    {
     "name": "stdout",
     "output_type": "stream",
     "text": [
      "['for', 'find', 'to', 'many', 'they', 'solid', 'for', 'have', 'some', 'ups,']\n"
     ]
    }
   ],
   "source": [
    "three = []  # Initialize an empty list\n",
    "\n",
    "# Open the file and read line by line\n",
    "with open(\"assets/school_prompt.txt\", \"r\") as file:\n",
    "    for line in file:\n",
    "        words = line.split()  # Split the line into words\n",
    "        if len(words) >= 3:  # Ensure there are at least 3 words\n",
    "            three.append(words[2])  # Get the third word (index 2)\n",
    "\n",
    "print(three)  # Output the list of third words\n"
   ]
  },
  {
   "cell_type": "code",
   "execution_count": 10,
   "id": "80e15acc",
   "metadata": {
    "deletable": false,
    "editable": false,
    "nbgrader": {
     "cell_type": "code",
     "checksum": "7df97f04de4931ecbdf17d39b237db4a",
     "grade": true,
     "grade_id": "cell-d7416a181aa2a896",
     "locked": true,
     "points": 1,
     "schema_version": 3,
     "solution": false,
     "task": false
    }
   },
   "outputs": [],
   "source": [
    "assert type(three) == type([]), \"three is not a list\"\n",
    "assert len(three) == 10, \"three is not assigned the correct length\""
   ]
  },
  {
   "cell_type": "markdown",
   "id": "e2d5c2ef",
   "metadata": {
    "deletable": false,
    "editable": false,
    "nbgrader": {
     "cell_type": "markdown",
     "checksum": "69935387a21e0921c780a48632d39aca",
     "grade": false,
     "grade_id": "cell-a3c53bb6d7b8cd30",
     "locked": true,
     "schema_version": 3,
     "solution": false,
     "task": false
    }
   },
   "source": [
    "**Challenge:** Create a list called `emotions` that contains the first word of every line in `assets/emotion_words.txt`."
   ]
  },
  {
   "cell_type": "code",
   "execution_count": 11,
   "id": "018ab64f",
   "metadata": {
    "deletable": false,
    "nbgrader": {
     "cell_type": "code",
     "checksum": "729b20095a963f6491780e15c367c056",
     "grade": false,
     "grade_id": "cell-cc5eb2cda7bc9765",
     "locked": false,
     "schema_version": 3,
     "solution": true,
     "task": false
    }
   },
   "outputs": [
    {
     "name": "stdout",
     "output_type": "stream",
     "text": [
      "['Sad', 'Angry', 'Happy', 'Confused', 'Excited', 'Scared', 'Nervous']\n"
     ]
    }
   ],
   "source": [
    "emotions = []  # Initialize an empty list\n",
    "\n",
    "# Open the file and read line by line\n",
    "with open(\"assets/emotion_words.txt\", \"r\") as file:\n",
    "    for line in file:\n",
    "        words = line.split()  # Split the line into words\n",
    "        if words:  # Ensure the line is not empty\n",
    "            emotions.append(words[0])  # Get the first word\n",
    "\n",
    "print(emotions)  # Output the list of first words\n"
   ]
  },
  {
   "cell_type": "code",
   "execution_count": 12,
   "id": "191e8a74",
   "metadata": {
    "deletable": false,
    "editable": false,
    "nbgrader": {
     "cell_type": "code",
     "checksum": "b38137a25e3e5c970a5075c848ea9d8d",
     "grade": true,
     "grade_id": "cell-cfad5425c19f0642",
     "locked": true,
     "points": 1,
     "schema_version": 3,
     "solution": false,
     "task": false
    }
   },
   "outputs": [],
   "source": [
    "assert type(emotions) == type([]), \"emotions is not a list\"\n",
    "assert len(emotions) == 7, \"emotions is not assigned the correct length\""
   ]
  },
  {
   "cell_type": "markdown",
   "id": "0f4bb6ad",
   "metadata": {
    "deletable": false,
    "editable": false,
    "nbgrader": {
     "cell_type": "markdown",
     "checksum": "9bd1e3bdebce1e289b417c1de237de9d",
     "grade": false,
     "grade_id": "cell-722f6e636200687e",
     "locked": true,
     "schema_version": 3,
     "solution": false,
     "task": false
    }
   },
   "source": [
    "Assign the first 33 characters from the textfile, `assets/travel_plans.txt` to the variable `first_chars`."
   ]
  },
  {
   "cell_type": "code",
   "execution_count": 14,
   "id": "fcee0a57",
   "metadata": {
    "deletable": false,
    "nbgrader": {
     "cell_type": "code",
     "checksum": "dfdfc5b091c5dda8dcdda87f1dff18f0",
     "grade": false,
     "grade_id": "cell-fdaec3f02923071d",
     "locked": false,
     "schema_version": 3,
     "solution": true,
     "task": false
    }
   },
   "outputs": [
    {
     "name": "stdout",
     "output_type": "stream",
     "text": [
      "This summer I will be travelling.\n"
     ]
    }
   ],
   "source": [
    "first_chars = None \n",
    "\n",
    "# Open the file and read the first 33 characters\n",
    "with open(\"assets/travel_plans.txt\", \"r\") as file:\n",
    "    first_chars = file.read(33)  # Read only the first 33 characters\n",
    "\n",
    "print(first_chars)  # Output the result\n"
   ]
  },
  {
   "cell_type": "code",
   "execution_count": 15,
   "id": "ff75ba60",
   "metadata": {
    "deletable": false,
    "editable": false,
    "nbgrader": {
     "cell_type": "code",
     "checksum": "8818372ab0eccde9656242a3c2d0a5ca",
     "grade": true,
     "grade_id": "cell-29e19e35ea6223bb",
     "locked": true,
     "points": 1,
     "schema_version": 3,
     "solution": false,
     "task": false
    }
   },
   "outputs": [],
   "source": [
    "assert type(first_chars) == type(\"\"), \"first_chars is not a string\"\n",
    "assert len(first_chars) == 33, \"first_chars is not assigned the correct length\""
   ]
  },
  {
   "cell_type": "markdown",
   "id": "11a96c31",
   "metadata": {
    "deletable": false,
    "editable": false,
    "nbgrader": {
     "cell_type": "markdown",
     "checksum": "a5295913928d67c5f91c4f618a360473",
     "grade": false,
     "grade_id": "cell-ff59bae3660567d7",
     "locked": true,
     "schema_version": 3,
     "solution": false,
     "task": false
    }
   },
   "source": [
    "**Challenge:** Using the file `assets/school_prompt.txt`, if the character ‘p’ is in a word, then add the word to a list called `p_words`."
   ]
  },
  {
   "cell_type": "code",
   "execution_count": 16,
   "id": "864166a1",
   "metadata": {
    "deletable": false,
    "nbgrader": {
     "cell_type": "code",
     "checksum": "2cd8bdc4548e3b5a5446bf4b32ab9e6e",
     "grade": false,
     "grade_id": "cell-20166062c59b6813",
     "locked": false,
     "schema_version": 3,
     "solution": true,
     "task": false
    }
   },
   "outputs": [
    {
     "name": "stdout",
     "output_type": "stream",
     "text": [
      "['topic', 'point', 'papers,', 'ups,', 'scripts.']\n"
     ]
    }
   ],
   "source": [
    "p_words = []  # Initialize an empty list\n",
    "\n",
    "# Open the file and read line by line\n",
    "with open(\"assets/school_prompt.txt\", \"r\") as file:\n",
    "    for line in file:\n",
    "        words = line.split()  # Split the line into words\n",
    "        for word in words:\n",
    "            if 'p' in word:  # Check if 'p' is in the word\n",
    "                p_words.append(word)\n",
    "\n",
    "print(p_words)  # Output the list of words containing 'p'\n"
   ]
  },
  {
   "cell_type": "code",
   "execution_count": 17,
   "id": "79d57e31",
   "metadata": {
    "deletable": false,
    "editable": false,
    "nbgrader": {
     "cell_type": "code",
     "checksum": "dda44fcbeefe7e85aff0e238edf6acaa",
     "grade": true,
     "grade_id": "cell-fcfd04c36cdaf0a5",
     "locked": true,
     "points": 1,
     "schema_version": 3,
     "solution": false,
     "task": false
    }
   },
   "outputs": [],
   "source": [
    "assert type(p_words) == type([]), \"p_words is not a list\"\n",
    "assert len(p_words) == 5, \"p_words is not assigned the correct length\""
   ]
  },
  {
   "cell_type": "code",
   "execution_count": null,
   "id": "bb7cb721-fb80-4585-8519-fe7018e86a0e",
   "metadata": {},
   "outputs": [],
   "source": []
  }
 ],
 "metadata": {
  "kernelspec": {
   "display_name": "Python 3.11 (ipykernel)",
   "language": "python",
   "name": "python3"
  },
  "language_info": {
   "codemirror_mode": {
    "name": "ipython",
    "version": 3
   },
   "file_extension": ".py",
   "mimetype": "text/x-python",
   "name": "python",
   "nbconvert_exporter": "python",
   "pygments_lexer": "ipython3",
   "version": "3.11.6"
  }
 },
 "nbformat": 4,
 "nbformat_minor": 5
}
