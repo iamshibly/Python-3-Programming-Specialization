{
 "cells": [
  {
   "cell_type": "markdown",
   "id": "960c68f0-00f1-4560-b4a3-781d9954ae23",
   "metadata": {},
   "source": [
    "# Assert Keyword: The assert keyword lets you test if a condition in your code returns True, if not, the program will raise an AssertionError"
   ]
  },
  {
   "cell_type": "code",
   "execution_count": 1,
   "id": "23189a51-8bc5-4f04-bfa2-410dcde169cb",
   "metadata": {},
   "outputs": [],
   "source": [
    "assert type(9//5)==int\n",
    "assert type(9.0//5)==float"
   ]
  },
  {
   "cell_type": "code",
   "execution_count": 2,
   "id": "a4b419aa-1823-42d6-900a-d64470e84d56",
   "metadata": {},
   "outputs": [],
   "source": [
    "list=[\"a\",\"b\",\"c\"]\n",
    "first_type = type(list[0])\n",
    "for ok in list:\n",
    "    assert type(ok)==first_type\n",
    "\n",
    "    "
   ]
  },
  {
   "cell_type": "code",
   "execution_count": 3,
   "id": "293ca190-d90c-41aa-aaaa-82ce1350d4c8",
   "metadata": {},
   "outputs": [
    {
     "name": "stdout",
     "output_type": "stream",
     "text": [
      "x is 4 and y is 4\n",
      "x is 5 and y is 4\n"
     ]
    }
   ],
   "source": [
    "x=4\n",
    "y=x\n",
    "print(\"x is {} and y is {}\".format(x,y))\n",
    "assert x==y\n",
    "x=x+1\n",
    "assert x!=y\n",
    "print(\"x is {} and y is {}\".format(x,y))"
   ]
  },
  {
   "cell_type": "markdown",
   "id": "60d9c838-749c-4b11-9eca-88e0952cd468",
   "metadata": {},
   "source": [
    "# is keyword and euqal to's difference\n"
   ]
  },
  {
   "cell_type": "code",
   "execution_count": 4,
   "id": "f2cd42a9-ad97-482c-8416-1fa63410b1b6",
   "metadata": {},
   "outputs": [
    {
     "name": "stdout",
     "output_type": "stream",
     "text": [
      "True\n",
      "False\n",
      "True\n",
      "True\n"
     ]
    }
   ],
   "source": [
    "a=['a','b','c']\n",
    "b=['a','b','c']\n",
    "print(a==b)\n",
    "print(a is b)\n",
    "c=a\n",
    "print(c==a)\n",
    "print(c is a)\n"
   ]
  },
  {
   "cell_type": "code",
   "execution_count": 9,
   "id": "4f3ee6a5-40a2-408c-b75c-603cdaeceb00",
   "metadata": {},
   "outputs": [
    {
     "name": "stdout",
     "output_type": "stream",
     "text": [
      "['24.0', ' 5', ' 18', ' 0', ' -2', ' 55']\n",
      "3\n"
     ]
    }
   ],
   "source": [
    "num_str=\"24.0, 5, 18, 0, -2, 55\"\n",
    "num_int = num_str.split(\",\")\n",
    "print(num_int)\n",
    "ct=0\n",
    "for ok in num_int:\n",
    "    if(float(ok)>15):\n",
    "        ct=ct+1\n",
    "print(ct)"
   ]
  },
  {
   "cell_type": "code",
   "execution_count": null,
   "id": "3711bb48-7d0a-405c-a608-ec8e8893c951",
   "metadata": {},
   "outputs": [],
   "source": []
  }
 ],
 "metadata": {
  "kernelspec": {
   "display_name": "Python 3 (ipykernel)",
   "language": "python",
   "name": "python3"
  },
  "language_info": {
   "codemirror_mode": {
    "name": "ipython",
    "version": 3
   },
   "file_extension": ".py",
   "mimetype": "text/x-python",
   "name": "python",
   "nbconvert_exporter": "python",
   "pygments_lexer": "ipython3",
   "version": "3.13.2"
  }
 },
 "nbformat": 4,
 "nbformat_minor": 5
}
