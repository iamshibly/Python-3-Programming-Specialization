{
 "cells": [
  {
   "cell_type": "code",
   "execution_count": null,
   "id": "fc89c0f8-7462-4561-8f1d-9dc382970f8a",
   "metadata": {},
   "outputs": [],
   "source": [
    "filee= open(\"olympics.txt\",'r')\n",
    "for joss in filee:\n",
    "    print(joss)\n",
    "filee.close()"
   ]
  },
  {
   "cell_type": "code",
   "execution_count": null,
   "id": "7d585650-f057-4c5f-8531-6bff86fe430b",
   "metadata": {},
   "outputs": [],
   "source": [
    "filee= open(\"olympics.txt\",'r')\n",
    "for joss in filee.readlines():\n",
    "    fus = joss.split(\",\")\n",
    "    print(fus[0],\"tk\",fus[2],\"dollar\")\n",
    "filee.close()"
   ]
  },
  {
   "cell_type": "code",
   "execution_count": null,
   "id": "7d06cb4d-37d1-4150-9f8f-c8c4dbdf029f",
   "metadata": {},
   "outputs": [],
   "source": [
    "filee= open(\"olympics.txt\",'r')\n",
    "for joss in filee:\n",
    "    fus = joss.split(\",\")\n",
    "    print(fus[0],\"tk\",fus[2],\"dollar\")\n",
    "filee.close()"
   ]
  },
  {
   "cell_type": "code",
   "execution_count": null,
   "id": "20b9dda5-7c7a-4ef9-8a46-4381a03ee2dd",
   "metadata": {},
   "outputs": [],
   "source": []
  }
 ],
 "metadata": {
  "kernelspec": {
   "display_name": "Python 3 (ipykernel)",
   "language": "python",
   "name": "python3"
  },
  "language_info": {
   "codemirror_mode": {
    "name": "ipython",
    "version": 3
   },
   "file_extension": ".py",
   "mimetype": "text/x-python",
   "name": "python",
   "nbconvert_exporter": "python",
   "pygments_lexer": "ipython3",
   "version": "3.13.2"
  }
 },
 "nbformat": 4,
 "nbformat_minor": 5
}
