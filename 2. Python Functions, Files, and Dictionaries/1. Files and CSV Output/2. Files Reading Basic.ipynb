{
 "cells": [
  {
   "cell_type": "code",
   "execution_count": null,
   "id": "4f3c5655-0d7e-4490-9218-536c15c6b1e9",
   "metadata": {},
   "outputs": [],
   "source": [
    "fileref = open(\"olympics.txt\",\"r\")\n"
   ]
  },
  {
   "cell_type": "code",
   "execution_count": null,
   "id": "9f9c2bef-5a74-40b9-adeb-7f060e63d7ee",
   "metadata": {},
   "outputs": [],
   "source": [
    "for lin in fileref:\n",
    "    print(lin)"
   ]
  },
  {
   "cell_type": "markdown",
   "id": "d9cdc874-332b-4375-926f-461f1cb5eb4e",
   "metadata": {},
   "source": [
    "# Read the entire file as a single string"
   ]
  },
  {
   "cell_type": "code",
   "execution_count": null,
   "id": "89e7dfb1-73e6-45a3-9dfa-e7a37d9db496",
   "metadata": {},
   "outputs": [],
   "source": [
    "contents = fileref.read()  \n",
    "print(len(contents))\n",
    "print(contents[:100])"
   ]
  },
  {
   "cell_type": "markdown",
   "id": "9a757592-5863-45ea-8db4-13fd5f39d915",
   "metadata": {},
   "source": [
    "# Read all lines into a list"
   ]
  },
  {
   "cell_type": "code",
   "execution_count": null,
   "id": "d56e24de-ea69-4e6e-a7df-b5baedd4b7f6",
   "metadata": {},
   "outputs": [],
   "source": [
    "lines= fileref.readlines() # Read all lines into a list\n",
    "print(lines[:4])"
   ]
  },
  {
   "cell_type": "code",
   "execution_count": null,
   "id": "5370bd04-258b-4865-9345-945614806bfd",
   "metadata": {},
   "outputs": [],
   "source": [
    "lines= fileref.readlines()\n",
    "for lin in lines[:5]:\n",
    "    print(lin.strip())"
   ]
  },
  {
   "cell_type": "code",
   "execution_count": null,
   "id": "730ab7d6-295f-474c-8f3c-3c255bb8eb45",
   "metadata": {},
   "outputs": [],
   "source": [
    "teee1 = fileref.readline()\n",
    "print(teee.strip())\n",
    "teee2 = fileref.readline()\n",
    "print(teee2.strip())"
   ]
  },
  {
   "cell_type": "code",
   "execution_count": null,
   "id": "82486172-2355-4798-bf33-27d147d31297",
   "metadata": {},
   "outputs": [],
   "source": [
    "fileref.close()"
   ]
  }
 ],
 "metadata": {
  "kernelspec": {
   "display_name": "Python 3 (ipykernel)",
   "language": "python",
   "name": "python3"
  },
  "language_info": {
   "codemirror_mode": {
    "name": "ipython",
    "version": 3
   },
   "file_extension": ".py",
   "mimetype": "text/x-python",
   "name": "python",
   "nbconvert_exporter": "python",
   "pygments_lexer": "ipython3",
   "version": "3.13.2"
  }
 },
 "nbformat": 4,
 "nbformat_minor": 5
}
