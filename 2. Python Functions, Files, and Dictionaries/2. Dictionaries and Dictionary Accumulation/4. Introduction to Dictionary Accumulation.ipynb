{
 "cells": [
  {
   "cell_type": "code",
   "execution_count": null,
   "id": "b63e840f-1307-4911-b4f2-8f392b0e26ad",
   "metadata": {},
   "outputs": [],
   "source": [
    "f = open('scarlet.txt', 'r')\n",
    "txt = f.read()\n",
    "# now txt is one long string containing all the characters\n",
    "t_count = 0 #initialize the accumulator variable\n",
    "s_count=0\n",
    "for c in txt:\n",
    "    if c == 't':\n",
    "        t_count = t_count + 1   #increment the counter\n",
    "    elif c == 's':\n",
    "        s_count = s_count + 1\n",
    "print(\"t: \" + str(t_count) + \" occurrences\")\n",
    "print(\"s: \" + str(s_count) + \" occurrences\")\n",
    "\n"
   ]
  },
  {
   "cell_type": "code",
   "execution_count": null,
   "id": "2ca12003-1f65-4f09-9910-b5de805f0ef7",
   "metadata": {},
   "outputs": [],
   "source": [
    "f = open('scarlet.txt', 'r')\n",
    "txt = f.read()\n",
    "x={}\n",
    "x['t']=0\n",
    "x['s']=0\n",
    "for y in txt:\n",
    "    if( y == 't'):\n",
    "        x['t']=x['t']+1\n",
    "    elif ( y == 's'):\n",
    "        x['s']=x['s']+1\n",
    "print(\"t: \" + str(x['t']) + \" occurrences\")\n",
    "print(\"s: \" + str(x['s']) + \" occurrences\")"
   ]
  },
  {
   "cell_type": "code",
   "execution_count": null,
   "id": "8f986127-0043-4d74-8f4e-f96824ba5849",
   "metadata": {},
   "outputs": [],
   "source": [
    "f = open('scarlet.txt', 'r')\n",
    "txt = f.read()\n",
    "x={}\n",
    "x['t']=0\n",
    "x['s']=0\n",
    "for y in txt:\n",
    "    if( y == 't'):\n",
    "        x[y]=x[y]+1\n",
    "    elif ( y == 's'):\n",
    "        x[y]=x[y]+1\n",
    "print(\"t: \" + str(x['t']) + \" occurrences\")\n",
    "print(\"s: \" + str(x['s']) + \" occurrences\")"
   ]
  },
  {
   "cell_type": "code",
   "execution_count": null,
   "id": "c336bce3-5bb8-4a3d-acaa-d7ebb4a00aaf",
   "metadata": {},
   "outputs": [],
   "source": [
    "f = open('scarlet.txt', 'r')\n",
    "txt = f.read()\n",
    "x={}\n",
    "for jj in txt:\n",
    "    if jj  not in x:\n",
    "         x[jj]=0\n",
    "    x[jj]= x[jj]+1\n",
    "    \n",
    "print(\"t: \" + str(x['t']) + \" occurrences\")\n",
    "print(\"s: \" + str(x['s']) + \" occurrences\")\n",
    "print(\"a: \" + str(x['a']) + \" occurrences\")\n",
    "    "
   ]
  },
  {
   "cell_type": "code",
   "execution_count": null,
   "id": "c7c82676-bfde-4dc8-a2c6-0d9fee283e15",
   "metadata": {},
   "outputs": [],
   "source": [
    "f = open('scarlet.txt', 'r')\n",
    "txt = f.read()\n",
    "x={}\n",
    "for jj in txt:\n",
    "    if jj  not in x:\n",
    "         x[jj]=0\n",
    "    x[jj]= x[jj]+1\n",
    "for a,b in x.items():\n",
    "    print(f\"'{a}':{b} occurs\")"
   ]
  },
  {
   "cell_type": "code",
   "execution_count": null,
   "id": "3ae01f1e-0fcd-4d89-9ed7-7989be8eb6f1",
   "metadata": {},
   "outputs": [],
   "source": [
    "f = open('scarlet.txt', 'r')\n",
    "txt = f.read()\n",
    "x={}\n",
    "for jj in txt:\n",
    "    if jj  not in x:\n",
    "         x[jj]=0\n",
    "    x[jj]= x[jj]+1\n",
    "for y in x:\n",
    "    print(\"There are\", x[y],y,\"'s\")"
   ]
  },
  {
   "cell_type": "markdown",
   "id": "4b260521-a621-41a1-ac4f-59a831cd9a6d",
   "metadata": {},
   "source": [
    "# two dictionary"
   ]
  },
  {
   "cell_type": "code",
   "execution_count": null,
   "id": "b41b6002-45af-40e9-836a-b798cc9eb232",
   "metadata": {},
   "outputs": [],
   "source": [
    "f = open('scarlet2.txt', 'r')\n",
    "txt = f.read()\n",
    "# now txt is one long string containing all the characters\n",
    "letter_counts = {} # start with an empty dictionary\n",
    "for c in txt:\n",
    "    if c not in letter_counts:\n",
    "        # we have not seen this character before, so initialize a counter for it\n",
    "        letter_counts[c] = 0\n",
    "\n",
    "    #whether we've seen it before or not, increment its counter\n",
    "    letter_counts[c] = letter_counts[c] + 1\n",
    "print(letter_counts['b'])\n",
    "letter_values = {'a': 1, 'b': 3, 'c': 3, 'd': 2, 'e': 1, 'f':4, 'g': 2, 'h':4, 'i':1, 'j':8, 'k':5, 'l':1, 'm':3, 'n':1, 'o':1, 'p':3, 'q':10, 'r':1, 's':1, 't':1, 'u':1, 'v':4, 'w':4, 'x':8, 'y':4, 'z':10}\n",
    "\n",
    "tot = 0\n",
    "for letter in letter_counts:\n",
    "    if letter in letter_values:\n",
    "        tot = tot + letter_values[letter] * letter_counts[letter]\n",
    "\n",
    "print(tot)\n"
   ]
  }
 ],
 "metadata": {
  "kernelspec": {
   "display_name": "Python 3 (ipykernel)",
   "language": "python",
   "name": "python3"
  },
  "language_info": {
   "codemirror_mode": {
    "name": "ipython",
    "version": 3
   },
   "file_extension": ".py",
   "mimetype": "text/x-python",
   "name": "python",
   "nbconvert_exporter": "python",
   "pygments_lexer": "ipython3",
   "version": "3.13.2"
  }
 },
 "nbformat": 4,
 "nbformat_minor": 5
}
