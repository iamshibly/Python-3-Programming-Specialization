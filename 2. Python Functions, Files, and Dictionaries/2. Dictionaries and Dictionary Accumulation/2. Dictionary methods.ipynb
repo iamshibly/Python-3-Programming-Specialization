{
 "cells": [
  {
   "cell_type": "code",
   "execution_count": null,
   "id": "971396ad-0b15-4490-b25f-fbfec7e060b1",
   "metadata": {},
   "outputs": [],
   "source": [
    "inventory = {'apples': 430, 'bananas': 312, 'oranges': 525, 'pears': 217}\n",
    "\n",
    "print(list(inventory.values()))\n",
    "print(list(inventory.keys()))\n",
    "\n",
    "for key in inventory:\n",
    "    print(key,\" \",inventory[key])\n",
    "for keey in inventory.keys():\n",
    "    print(keey,\" \",inventory[keey])\n",
    "for ky in inventory.values():\n",
    "    print(ky,\" \")\n",
    "\n",
    "\n"
   ]
  },
  {
   "cell_type": "code",
   "execution_count": null,
   "id": "b3a552de-e850-4b00-9eea-56fe11d968a7",
   "metadata": {},
   "outputs": [],
   "source": [
    "inventory = {'apples': 430, 'bananas': 312, 'pears': 217, 'oranges': 525}\n",
    "\n",
    "for akey in inventory:     # the order in which we get the keys is not defined\n",
    "    print(\"Got key\", akey, \"which maps to value\", inventory[akey])\n",
    "\n",
    "ks = list(inventory.values()) # Make a list of all of the keys\n",
    "ps= list(inventory.keys())\n",
    "print(ks)\n",
    "print(ks[0])                      # Display the first key\n",
    "print(ps)\n",
    "print(ps[0])"
   ]
  },
  {
   "cell_type": "code",
   "execution_count": null,
   "id": "3c1b11db-ad6c-475b-b81a-214665de5973",
   "metadata": {},
   "outputs": [],
   "source": [
    "inventory = {'apples': 430, 'bananas': 312, 'oranges': 525, 'pears': 217}\n",
    "\n",
    "print(list(inventory.values()))"
   ]
  },
  {
   "cell_type": "code",
   "execution_count": 15,
   "id": "b44eb4d8-2b75-4c5c-b1f1-6a989dc1cd7b",
   "metadata": {},
   "outputs": [
    {
     "name": "stdout",
     "output_type": "stream",
     "text": [
      "apples   430\n",
      "bananas   312\n",
      "oranges   525\n",
      "pears   217\n"
     ]
    }
   ],
   "source": [
    "inventory = {'apples': 430, 'bananas': 312, 'oranges': 525, 'pears': 217}\n",
    "for k,v in inventory.items():\n",
    "    print(k,\" \",v)"
   ]
  },
  {
   "cell_type": "code",
   "execution_count": 18,
   "id": "64126b97-9066-4c52-94b8-a3ec51bf238e",
   "metadata": {},
   "outputs": [
    {
     "name": "stdout",
     "output_type": "stream",
     "text": [
      "True\n",
      "True\n",
      "suiiiii\n"
     ]
    }
   ],
   "source": [
    "inventory = {'apples': 430, 'bananas': 312, 'oranges': 525, 'pears': 217}\n",
    "print('apples' in inventory)\n",
    "print('mango'not in inventory)\n",
    "if 'bananas' in inventory:\n",
    "    print(\"suiiiii\")\n",
    "else:\n",
    "    print(\"bal sal\")"
   ]
  },
  {
   "cell_type": "code",
   "execution_count": 21,
   "id": "c14110c6-d041-4b5d-9fb7-6598e43ab1bd",
   "metadata": {},
   "outputs": [
    {
     "name": "stdout",
     "output_type": "stream",
     "text": [
      "430\n",
      "None\n",
      "5\n"
     ]
    }
   ],
   "source": [
    "inventory = {'apples': 430, 'bananas': 312, 'oranges': 525, 'pears': 217}\n",
    "print(inventory.get('apples'))\n",
    "print(inventory.get('mango'))\n",
    "print(inventory.get('mango',5))"
   ]
  },
  {
   "cell_type": "code",
   "execution_count": 23,
   "id": "52fae6f2-ae46-4a20-bed7-15c23cd33ca8",
   "metadata": {},
   "outputs": [
    {
     "name": "stdout",
     "output_type": "stream",
     "text": [
      "2\n"
     ]
    }
   ],
   "source": [
    "inventory = {'apples': 630, 'bananas': 312, 'oranges': 525, 'pears': 217}\n",
    "divide = inventory['apples']//inventory['pears']\n",
    "print(divide)"
   ]
  },
  {
   "cell_type": "code",
   "execution_count": 24,
   "id": "f6763ca8-9fb1-4c6a-b048-59b8264b90ca",
   "metadata": {},
   "outputs": [
    {
     "name": "stdout",
     "output_type": "stream",
     "text": [
      "837\n"
     ]
    }
   ],
   "source": [
    "inventory = {'apples': 630, 'bananas': 312, 'oranges': 525, 'pears': 217}\n",
    "total=0\n",
    "for key in inventory:\n",
    "    if(len(key) >6):\n",
    "        total=total+inventory[key]\n",
    "print(total)"
   ]
  },
  {
   "cell_type": "code",
   "execution_count": null,
   "id": "d62e6d40-ec4f-4fd8-993d-9c704cdaa039",
   "metadata": {},
   "outputs": [],
   "source": []
  }
 ],
 "metadata": {
  "kernelspec": {
   "display_name": "Python 3 (ipykernel)",
   "language": "python",
   "name": "python3"
  },
  "language_info": {
   "codemirror_mode": {
    "name": "ipython",
    "version": 3
   },
   "file_extension": ".py",
   "mimetype": "text/x-python",
   "name": "python",
   "nbconvert_exporter": "python",
   "pygments_lexer": "ipython3",
   "version": "3.13.2"
  }
 },
 "nbformat": 4,
 "nbformat_minor": 5
}
