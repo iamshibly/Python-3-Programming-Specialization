{
 "cells": [
  {
   "cell_type": "code",
   "execution_count": 8,
   "id": "9fb62f4e-bd1c-4549-bc24-c0b807fe41a1",
   "metadata": {},
   "outputs": [],
   "source": [
    "import csv"
   ]
  },
  {
   "cell_type": "code",
   "execution_count": 10,
   "id": "929e6a2d-179a-40f4-b739-555f149cfd05",
   "metadata": {},
   "outputs": [
    {
     "name": "stdout",
     "output_type": "stream",
     "text": [
      "Name: Event; Medal\n",
      "Edgar Lindenau Aabye: Tug-Of-War; Gold\n",
      "Arvo Ossian Aaltonen: Swimming; Bronze\n",
      "Arvo Ossian Aaltonen: Swimming; Bronze\n",
      "Juhamatti Tapio Aaltonen: Ice Hockey; Bronze\n",
      "Paavo Johannes Aaltonen: Gymnastics; Bronze\n",
      "Paavo Johannes Aaltonen: Gymnastics; Gold\n",
      "Paavo Johannes Aaltonen: Gymnastics; Gold\n",
      "Paavo Johannes Aaltonen: Gymnastics; Gold\n",
      "Paavo Johannes Aaltonen: Gymnastics; Bronze\n"
     ]
    }
   ],
   "source": [
    "with open(\"olympic_athletes.csv\", 'r') as f:\n",
    "    reader = csv.reader(f)\n",
    "    for row in reader:\n",
    "        if row[5] != \"NA\":\n",
    "            print(f\"{row[0]}: {row[4]}; {row[5]}\")    "
   ]
  },
  {
   "cell_type": "code",
   "execution_count": 12,
   "id": "f7745bdc-5e4b-446d-9126-4f7710e10ba6",
   "metadata": {},
   "outputs": [
    {
     "name": "stdout",
     "output_type": "stream",
     "text": [
      "Edgar Lindenau Aabye: Tug-Of-War; Gold\n",
      "Arvo Ossian Aaltonen: Swimming; Bronze\n",
      "Arvo Ossian Aaltonen: Swimming; Bronze\n",
      "Juhamatti Tapio Aaltonen: Ice Hockey; Bronze\n",
      "Paavo Johannes Aaltonen: Gymnastics; Bronze\n",
      "Paavo Johannes Aaltonen: Gymnastics; Gold\n",
      "Paavo Johannes Aaltonen: Gymnastics; Gold\n",
      "Paavo Johannes Aaltonen: Gymnastics; Gold\n",
      "Paavo Johannes Aaltonen: Gymnastics; Bronze\n"
     ]
    }
   ],
   "source": [
    "with open(\"olympic_athletes.csv\", 'r') as f:\n",
    "    reader = csv.DictReader(f)\n",
    "    for row in reader:  # iterate through remaining rows\n",
    "        if row[\"Medal\"] != \"NA\":\n",
    "            print(f\"{row['Name']}: {row['Event']}; {row['Medal']}\")"
   ]
  },
  {
   "cell_type": "code",
   "execution_count": 11,
   "id": "36612e5e-ca74-43a8-a6f0-e69002f6d9c6",
   "metadata": {},
   "outputs": [
    {
     "name": "stdout",
     "output_type": "stream",
     "text": [
      "['Name', 'Sex', 'Age', 'Team', 'Event', 'Medal']\n",
      "{'Name': 'A Dijiang', 'Sex': 'M', 'Age': '24', 'Team': 'China', 'Event': 'Basketball', 'Medal': 'NA'}\n",
      "{'Name': 'A Lamusi', 'Sex': 'M', 'Age': '23', 'Team': 'China', 'Event': 'Judo', 'Medal': 'NA'}\n"
     ]
    }
   ],
   "source": [
    "with open(\"olympic_athletes.csv\", 'r') as f:\n",
    "    reader = csv.DictReader(f)\n",
    "    print(reader.fieldnames)\n",
    "    # show first two rows\n",
    "    print (next(reader))\n",
    "    print (next(reader))"
   ]
  },
  {
   "cell_type": "code",
   "execution_count": 13,
   "id": "fda741f6-8e88-49d2-bf90-12cc828c1554",
   "metadata": {},
   "outputs": [],
   "source": [
    "olympians = [(\"John Aalberg\", 31, \"Cross Country Skiing, 15KM\"),\n",
    "            (\"Minna Maarit Aalto\", 30, \"Sailing\"),\n",
    "            (\"Win Valdemar Aaltonen\", 54, \"Art Competitions\"),\n",
    "            (\"Wakako Abe\", 18, \"Cycling\")]\n",
    "\n",
    "outfile = open(\"reduced_olympics_2.csv\",\"w\")\n",
    "\n",
    "writer = csv.writer(outfile)\n",
    "writer.writerow(['Name', 'Age', 'Sport'])\n",
    "\n",
    "for olympian in olympians:\n",
    "    writer.writerow(olympian)\n",
    "outfile.close()"
   ]
  },
  {
   "cell_type": "code",
   "execution_count": 14,
   "id": "7bfe5402-d927-4521-a35c-e8d1ff501e59",
   "metadata": {},
   "outputs": [],
   "source": [
    "olympians = [{'Name': 'John Aalberg', 'Age': 31, 'Sport': 'Cross Country Skiing, 15KM'},\n",
    " {'Name': 'Minna Maarit Aalto', 'Age': 30, 'Sport': 'Sailing'},\n",
    " {'Name': 'Win Valdemar Aaltonen', 'Age': 54, 'Sport': 'Art Competitions'},\n",
    " {'Name': 'Wakako Abe', 'Age': 18, 'Sport': 'Cycling'}]\n",
    "\n",
    "outfile = open(\"reduced_olympics_3.csv\",\"w\")\n",
    "\n",
    "writer = csv.DictWriter(outfile, olympians[0].keys())\n",
    "writer.writeheader()\n",
    "for olympian in olympians:\n",
    "    writer.writerow(olympian)\n",
    "outfile.close()"
   ]
  },
  {
   "cell_type": "code",
   "execution_count": null,
   "id": "6d76430f-642e-43ba-9056-0af6316a67de",
   "metadata": {},
   "outputs": [],
   "source": []
  }
 ],
 "metadata": {
  "kernelspec": {
   "display_name": "Python 3 (ipykernel)",
   "language": "python",
   "name": "python3"
  },
  "language_info": {
   "codemirror_mode": {
    "name": "ipython",
    "version": 3
   },
   "file_extension": ".py",
   "mimetype": "text/x-python",
   "name": "python",
   "nbconvert_exporter": "python",
   "pygments_lexer": "ipython3",
   "version": "3.13.2"
  }
 },
 "nbformat": 4,
 "nbformat_minor": 5
}
