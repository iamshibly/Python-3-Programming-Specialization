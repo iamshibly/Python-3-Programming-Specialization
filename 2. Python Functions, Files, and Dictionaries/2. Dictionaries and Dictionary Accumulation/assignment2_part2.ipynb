{
 "cells": [
  {
   "cell_type": "markdown",
   "id": "437e9c60",
   "metadata": {
    "deletable": false,
    "editable": false,
    "nbgrader": {
     "cell_type": "markdown",
     "checksum": "4fd27aaa671de5a54c86a55e1d62c57a",
     "grade": false,
     "grade_id": "cell-f8cbca3c7e813df8",
     "locked": true,
     "schema_version": 3,
     "solution": false,
     "task": false
    }
   },
   "source": [
    "# Assignment 2 (part two)\n",
    "\n",
    "Dictionary Accumulation"
   ]
  },
  {
   "cell_type": "markdown",
   "id": "08daaac9",
   "metadata": {
    "deletable": false,
    "editable": false,
    "nbgrader": {
     "cell_type": "markdown",
     "checksum": "e71edd1fe305a2dbbd0315aa8e52d43b",
     "grade": false,
     "grade_id": "cell-6bdc6f3562788820",
     "locked": true,
     "schema_version": 3,
     "solution": false,
     "task": false
    }
   },
   "source": [
    "The dictionary `Junior` shows a schedule for a junior year semester. The key is the course name and the value is the number of credits. Find the total number of credits taken this semester and assign it to the variable `credits`. Do not hardcode this – use dictionary accumulation!"
   ]
  },
  {
   "cell_type": "code",
   "execution_count": 1,
   "id": "d306c66a",
   "metadata": {
    "deletable": false,
    "nbgrader": {
     "cell_type": "code",
     "checksum": "0eeba2767c875d648f57584b55706b7d",
     "grade": false,
     "grade_id": "cell-07e7b31bf90a1f97",
     "locked": false,
     "schema_version": 3,
     "solution": true,
     "task": false
    },
    "tags": []
   },
   "outputs": [
    {
     "name": "stdout",
     "output_type": "stream",
     "text": [
      "Total Credits: 18\n"
     ]
    }
   ],
   "source": [
    "Junior = {\n",
    "    \"SI 206\": 4,\n",
    "    \"SI 310\": 4,\n",
    "    \"BL 300\": 3,\n",
    "    \"TO 313\": 3,\n",
    "    \"BCOM 350\": 1,\n",
    "    \"MO 300\": 3,\n",
    "}\n",
    "\n",
    "# Initialize accumulator variable\n",
    "credits = 0  \n",
    "\n",
    "# Loop through dictionary values and accumulate total credits\n",
    "for course in Junior:\n",
    "    credits += Junior[course]  # Add each course's credits to total\n",
    "\n",
    "# Print total credits\n",
    "print(\"Total Credits:\", credits)\n"
   ]
  },
  {
   "cell_type": "code",
   "execution_count": null,
   "id": "c5b58c47",
   "metadata": {
    "deletable": false,
    "editable": false,
    "nbgrader": {
     "cell_type": "code",
     "checksum": "f50d6bd6af97cd9920eb3c74489eb57e",
     "grade": true,
     "grade_id": "cell-c8fa510d6d4f279a",
     "locked": true,
     "points": 1,
     "schema_version": 3,
     "solution": false,
     "task": false
    }
   },
   "outputs": [],
   "source": []
  },
  {
   "cell_type": "markdown",
   "id": "ed9240aa",
   "metadata": {
    "deletable": false,
    "editable": false,
    "nbgrader": {
     "cell_type": "markdown",
     "checksum": "069870d9888f03e808c342b7a755ef07",
     "grade": false,
     "grade_id": "cell-b6f330f048c8e99d",
     "locked": true,
     "schema_version": 3,
     "solution": false,
     "task": false
    }
   },
   "source": [
    "Create a dictionary, `freq`, that displays each character in string `str1` as the key and its frequency as the value."
   ]
  },
  {
   "cell_type": "code",
   "execution_count": 2,
   "id": "ef54d481",
   "metadata": {
    "deletable": false,
    "nbgrader": {
     "cell_type": "code",
     "checksum": "c6d16f3a8f981e499af578d3ba599f98",
     "grade": false,
     "grade_id": "cell-c9fd340570daa577",
     "locked": false,
     "schema_version": 3,
     "solution": true,
     "task": false
    },
    "tags": []
   },
   "outputs": [
    {
     "name": "stdout",
     "output_type": "stream",
     "text": [
      "{'p': 9, 'e': 8, 't': 1, 'r': 3, ' ': 7, 'i': 3, 'c': 3, 'k': 3, 'd': 2, 'a': 1, 'o': 1, 'f': 1, 'l': 1, 's': 1}\n"
     ]
    }
   ],
   "source": [
    "str1 = \"peter piper picked a peck of pickled peppers\"\n",
    "\n",
    "# Initialize an empty dictionary\n",
    "freq = {}\n",
    "\n",
    "# Loop through each character in the string\n",
    "for char in str1:\n",
    "    if char not in freq:\n",
    "        freq[char] = 0  # Initialize if not present\n",
    "    freq[char] += 1  # Increment count\n",
    "\n",
    "# Print the frequency dictionary\n",
    "print(freq)\n"
   ]
  },
  {
   "cell_type": "code",
   "execution_count": null,
   "id": "b956e39a",
   "metadata": {
    "deletable": false,
    "editable": false,
    "nbgrader": {
     "cell_type": "code",
     "checksum": "4246d3591ff6a421228dbc465d4ac892",
     "grade": true,
     "grade_id": "cell-eb6028eb9928ebb3",
     "locked": true,
     "points": 1,
     "schema_version": 3,
     "solution": false,
     "task": false
    }
   },
   "outputs": [],
   "source": []
  },
  {
   "cell_type": "markdown",
   "id": "29ec3f13",
   "metadata": {
    "deletable": false,
    "editable": false,
    "nbgrader": {
     "cell_type": "markdown",
     "checksum": "4e190e4ddb3ddabed606565f3b776c5b",
     "grade": false,
     "grade_id": "cell-e8d7e8836e8a8d17",
     "locked": true,
     "schema_version": 3,
     "solution": false,
     "task": false
    }
   },
   "source": [
    "Provided is a string saved to the variable name `s1`. Create a dictionary named `counts` that contains each letter in `s1` and the number of times it occurs."
   ]
  },
  {
   "cell_type": "code",
   "execution_count": 3,
   "id": "4271deed",
   "metadata": {
    "deletable": false,
    "nbgrader": {
     "cell_type": "code",
     "checksum": "867f1ef2ea8900a4fa06eeadf1b2c617",
     "grade": false,
     "grade_id": "cell-8b8b6d9af5515ca5",
     "locked": false,
     "schema_version": 3,
     "solution": true,
     "task": false
    },
    "tags": []
   },
   "outputs": [
    {
     "name": "stdout",
     "output_type": "stream",
     "text": [
      "{'h': 1, 'e': 1, 'l': 2, 'o': 1}\n"
     ]
    }
   ],
   "source": [
    "s1 = \"hello\"\n",
    "\n",
    "# Initialize an empty dictionary\n",
    "counts = {}\n",
    "\n",
    "# Loop through each character in the string\n",
    "for char in s1:\n",
    "    if char not in counts:\n",
    "        counts[char] = 0  # Initialize if not present\n",
    "    counts[char] += 1  # Increment count\n",
    "\n",
    "# Print the frequency dictionary\n",
    "print(counts)\n"
   ]
  },
  {
   "cell_type": "code",
   "execution_count": null,
   "id": "25886917",
   "metadata": {
    "deletable": false,
    "editable": false,
    "nbgrader": {
     "cell_type": "code",
     "checksum": "c02931a65d8efe68d902dc9e541fa63b",
     "grade": true,
     "grade_id": "cell-38a7e977dc21a1f9",
     "locked": true,
     "points": 1,
     "schema_version": 3,
     "solution": false,
     "task": false
    }
   },
   "outputs": [],
   "source": []
  },
  {
   "cell_type": "markdown",
   "id": "f61e525d",
   "metadata": {
    "deletable": false,
    "editable": false,
    "nbgrader": {
     "cell_type": "markdown",
     "checksum": "9ccafc7b3598d7a099331e30a9c7e258",
     "grade": false,
     "grade_id": "cell-c0e84007fd36c379",
     "locked": true,
     "schema_version": 3,
     "solution": false,
     "task": false
    }
   },
   "source": [
    "Create a dictionary, `freq_words`, that contains each word in string `str1` as the key and its frequency as the value."
   ]
  },
  {
   "cell_type": "code",
   "execution_count": 4,
   "id": "79f7e617",
   "metadata": {
    "deletable": false,
    "nbgrader": {
     "cell_type": "code",
     "checksum": "20c9a972c9b087a60c62aea97601e073",
     "grade": false,
     "grade_id": "cell-6370e4c1b9cf6220",
     "locked": false,
     "schema_version": 3,
     "solution": true,
     "task": false
    },
    "tags": []
   },
   "outputs": [
    {
     "name": "stdout",
     "output_type": "stream",
     "text": [
      "{'I': 2, 'wish': 2, 'with': 2, 'all': 1, 'my': 1, 'heart': 1, 'to': 1, 'fly': 1, 'dragons': 1, 'in': 1, 'a': 1, 'land': 1, 'apart': 1}\n"
     ]
    }
   ],
   "source": [
    "str1 = \"I wish I wish with all my heart to fly with dragons in a land apart\"\n",
    "\n",
    "# Initialize an empty dictionary\n",
    "freq_words = {}\n",
    "\n",
    "# Split the string into a list of words\n",
    "words = str1.split()\n",
    "\n",
    "# Loop through each word in the list\n",
    "for word in words:\n",
    "    if word not in freq_words:\n",
    "        freq_words[word] = 0  # Initialize if not present\n",
    "    freq_words[word] += 1  # Increment count\n",
    "\n",
    "# Print the frequency dictionary\n",
    "print(freq_words)\n"
   ]
  },
  {
   "cell_type": "code",
   "execution_count": null,
   "id": "3325d92e",
   "metadata": {
    "deletable": false,
    "editable": false,
    "nbgrader": {
     "cell_type": "code",
     "checksum": "474582d099d579d90ba969adb6a1f3d6",
     "grade": true,
     "grade_id": "cell-fffebcf0817fb5a3",
     "locked": true,
     "points": 1,
     "schema_version": 3,
     "solution": false,
     "task": false
    }
   },
   "outputs": [],
   "source": []
  },
  {
   "cell_type": "markdown",
   "id": "2a3d3936",
   "metadata": {
    "deletable": false,
    "editable": false,
    "nbgrader": {
     "cell_type": "markdown",
     "checksum": "f2b1eb077ccb42f701acb49972b7f5e0",
     "grade": false,
     "grade_id": "cell-c927a113e6065fed",
     "locked": true,
     "schema_version": 3,
     "solution": false,
     "task": false
    }
   },
   "source": [
    "Create a dictionary called `wrd_d` from the string `sent`, so that the key is a word and the value is how many times you have seen that word."
   ]
  },
  {
   "cell_type": "code",
   "execution_count": 14,
   "id": "1f9c9191",
   "metadata": {
    "deletable": false,
    "nbgrader": {
     "cell_type": "code",
     "checksum": "79bab5c1f5f4a92e69246959473d8da8",
     "grade": false,
     "grade_id": "cell-3dd923884b3562c5",
     "locked": false,
     "schema_version": 3,
     "solution": true,
     "task": false
    },
    "tags": []
   },
   "outputs": [
    {
     "name": "stdout",
     "output_type": "stream",
     "text": [
      "['Singing', 'in', 'the', 'rain', 'and', 'playing', 'in', 'the', 'rain', 'are', 'two', 'entirely', 'different', 'situations', 'but', 'both', 'can', 'be', 'good']\n"
     ]
    }
   ],
   "source": [
    "\n",
    "sent = \"Singing in the rain and playing in the rain are two entirely different situations but both can be good\"\n",
    "\n",
    "splitted=sent.split()\n",
    "print (splitted)\n",
    "wrd_d={}\n",
    "\n",
    "for aword in splitted:\n",
    "    if aword not in wrd_d:\n",
    "        wrd_d[aword]=0\n",
    "    wrd_d[aword]=wrd_d[aword]+1"
   ]
  },
  {
   "cell_type": "code",
   "execution_count": null,
   "id": "04202d38",
   "metadata": {
    "deletable": false,
    "editable": false,
    "nbgrader": {
     "cell_type": "code",
     "checksum": "09d0b6a6afa58bea59c937cd5dc4a86b",
     "grade": true,
     "grade_id": "cell-b77327c91f457b27",
     "locked": true,
     "points": 1,
     "schema_version": 3,
     "solution": false,
     "task": false
    }
   },
   "outputs": [],
   "source": []
  },
  {
   "cell_type": "markdown",
   "id": "2011e747",
   "metadata": {
    "deletable": false,
    "editable": false,
    "nbgrader": {
     "cell_type": "markdown",
     "checksum": "602b24e6b2221b2a67c5426319e8b4b6",
     "grade": false,
     "grade_id": "cell-f88ae84429af901c",
     "locked": true,
     "schema_version": 3,
     "solution": false,
     "task": false
    }
   },
   "source": [
    "Create the dictionary `characters` that shows each character from the string `sally` and its frequency. Then, find the most frequent letter based on the dictionary. Assign this letter to the variable `best_char`."
   ]
  },
  {
   "cell_type": "code",
   "execution_count": 18,
   "id": "df5e5133",
   "metadata": {
    "deletable": false,
    "nbgrader": {
     "cell_type": "code",
     "checksum": "b55162b317381337698ef22da2b76d2b",
     "grade": false,
     "grade_id": "cell-076211e0a91d52b2",
     "locked": false,
     "schema_version": 3,
     "solution": true,
     "task": false
    },
    "tags": []
   },
   "outputs": [
    {
     "name": "stdout",
     "output_type": "stream",
     "text": [
      "{'s': 8, 'a': 3, 'l': 6, 'y': 2, ' ': 7, 'e': 6, 'h': 3, 'b': 1, 't': 1, 'o': 1, 'r': 1}\n",
      "Most frequent character: s\n"
     ]
    }
   ],
   "source": [
    "sally = \"sally sells sea shells by the sea shore\"\n",
    "\n",
    "# Initialize an empty dictionary to store character frequencies\n",
    "characters = {}\n",
    "\n",
    "# Iterate through each character in the string\n",
    "for char in sally:\n",
    "    characters[char] = characters.get(char, 0) + 1  # Increment count\n",
    "\n",
    "# Find the most frequent letter (ignoring spaces)\n",
    "best_char = max((ch for ch in characters if ch != \" \"), key=characters.get)\n",
    "\n",
    "print(characters)\n",
    "print(\"Most frequent character:\", best_char)\n"
   ]
  },
  {
   "cell_type": "code",
   "execution_count": null,
   "id": "6d055ff6",
   "metadata": {
    "deletable": false,
    "editable": false,
    "nbgrader": {
     "cell_type": "code",
     "checksum": "153d274889abe3da26dff41f956fbbee",
     "grade": true,
     "grade_id": "cell-29e7463079387e6f",
     "locked": true,
     "points": 1,
     "schema_version": 3,
     "solution": false,
     "task": false
    }
   },
   "outputs": [],
   "source": []
  },
  {
   "cell_type": "markdown",
   "id": "a174655d",
   "metadata": {
    "deletable": false,
    "editable": false,
    "nbgrader": {
     "cell_type": "markdown",
     "checksum": "b2514d72776666690db153c843e207a3",
     "grade": false,
     "grade_id": "cell-1df9e5cf9acf2f6f",
     "locked": true,
     "schema_version": 3,
     "solution": false,
     "task": false
    }
   },
   "source": [
    "Find the least frequent letter. Create the dictionary `characters` that shows each character from string `sally` and its frequency. Then, find the least frequent letter in the string and assign the letter to the variable `worst_char`."
   ]
  },
  {
   "cell_type": "code",
   "execution_count": 16,
   "id": "692e5962",
   "metadata": {
    "deletable": false,
    "nbgrader": {
     "cell_type": "code",
     "checksum": "488207138075fd59ee06c3c43022e9b7",
     "grade": false,
     "grade_id": "cell-0f3138d35277b0e5",
     "locked": false,
     "schema_version": 3,
     "solution": true,
     "task": false
    },
    "tags": []
   },
   "outputs": [
    {
     "name": "stdout",
     "output_type": "stream",
     "text": [
      "['s', 'a', 'l', 'y', ' ', 'e', 'h', 'b', 't', 'o', 'r', 'n', 'd']\n"
     ]
    }
   ],
   "source": [
    "sally = \"sally sells sea shells by the sea shore and by the road\"\n",
    "\n",
    "characters ={}\n",
    "for achar in sally:\n",
    "    if achar not in characters:\n",
    "        characters[achar]=0\n",
    "    characters[achar]=characters[achar]+1\n",
    "ks=list(characters.keys())\n",
    "print (ks)\n",
    "\n",
    "worst_char=ks[0]\n",
    "\n",
    "for keys in characters:\n",
    "    if characters[keys] < characters[achar]:\n",
    "        worst_char=keys"
   ]
  },
  {
   "cell_type": "code",
   "execution_count": null,
   "id": "46fe011d",
   "metadata": {
    "deletable": false,
    "editable": false,
    "nbgrader": {
     "cell_type": "code",
     "checksum": "31a1010cb1222ccd290eb35bc6878142",
     "grade": true,
     "grade_id": "cell-81bcdaa409766969",
     "locked": true,
     "points": 1,
     "schema_version": 3,
     "solution": false,
     "task": false
    }
   },
   "outputs": [],
   "source": []
  },
  {
   "cell_type": "markdown",
   "id": "413811dd",
   "metadata": {
    "deletable": false,
    "editable": false,
    "nbgrader": {
     "cell_type": "markdown",
     "checksum": "c4e78be565c43f094233dbd29b290139",
     "grade": false,
     "grade_id": "cell-b1343290cfe63fa7",
     "locked": true,
     "schema_version": 3,
     "solution": false,
     "task": false
    }
   },
   "source": [
    "Create a dictionary called `low_d` that keeps track of all the characters in the string `p` and notes how many times each character was seen. Make sure that there are no repeats of characters as keys, such that “T” and “t” are both seen as a “t” for example."
   ]
  },
  {
   "cell_type": "code",
   "execution_count": 7,
   "id": "de7cd693",
   "metadata": {
    "deletable": false,
    "nbgrader": {
     "cell_type": "code",
     "checksum": "333a7cbb88eb1b8f77fd02aac9d476f7",
     "grade": false,
     "grade_id": "cell-bd8cb8037e070dd7",
     "locked": false,
     "schema_version": 3,
     "solution": true,
     "task": false
    },
    "tags": []
   },
   "outputs": [
    {
     "name": "stdout",
     "output_type": "stream",
     "text": [
      "{'s': 5, 'u': 7, 'm': 3, 'e': 12, 'r': 3, 'i': 3, 'a': 6, 'g': 3, 't': 9, 'o': 8, 'd': 1, 'y': 1, 'h': 6, 'v': 1, 'b': 2, 'c': 2, 'f': 3, 'l': 1, 'n': 1}\n"
     ]
    }
   ],
   "source": [
    "p = \"Summer is a great time to go outside. You have to be careful of the sun though because of the heat.\"\n",
    "\n",
    "# Create the dictionary to store character frequencies\n",
    "low_d = {}\n",
    "\n",
    "# Count each character (ignoring case)\n",
    "for char in p.lower():  # Convert everything to lowercase\n",
    "    if char.isalpha():  # Only count alphabetic characters\n",
    "        low_d[char] = low_d.get(char, 0) + 1\n",
    "\n",
    "print(low_d)\n"
   ]
  },
  {
   "cell_type": "code",
   "execution_count": null,
   "id": "3530fde3",
   "metadata": {
    "deletable": false,
    "editable": false,
    "nbgrader": {
     "cell_type": "code",
     "checksum": "6c3ea636db5e46ffb8c7a37b312b7b05",
     "grade": true,
     "grade_id": "cell-642520e26103eb1b",
     "locked": true,
     "points": 1,
     "schema_version": 3,
     "solution": false,
     "task": false
    }
   },
   "outputs": [],
   "source": []
  }
 ],
 "metadata": {
  "kernelspec": {
   "display_name": "Python 3.11 (ipykernel)",
   "language": "python",
   "name": "python3"
  },
  "language_info": {
   "codemirror_mode": {
    "name": "ipython",
    "version": 3
   },
   "file_extension": ".py",
   "mimetype": "text/x-python",
   "name": "python",
   "nbconvert_exporter": "python",
   "pygments_lexer": "ipython3",
   "version": "3.11.6"
  }
 },
 "nbformat": 4,
 "nbformat_minor": 5
}
