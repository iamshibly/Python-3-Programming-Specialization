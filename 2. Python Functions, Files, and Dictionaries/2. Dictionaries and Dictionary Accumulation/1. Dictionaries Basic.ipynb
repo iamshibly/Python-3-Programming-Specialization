{
 "cells": [
  {
   "cell_type": "code",
   "execution_count": 1,
   "id": "a54fad78-ed5b-49b8-b98d-048e3da4f633",
   "metadata": {},
   "outputs": [
    {
     "name": "stdout",
     "output_type": "stream",
     "text": [
      "{'one': 'uno', 'two': 'dos', 'three': 'tres'}\n"
     ]
    }
   ],
   "source": [
    "eng2sp = {}\n",
    "eng2sp['one'] = 'uno'\n",
    "eng2sp['two'] = 'dos'\n",
    "eng2sp['three'] = 'tres'\n",
    "print(eng2sp)"
   ]
  },
  {
   "cell_type": "code",
   "execution_count": 2,
   "id": "4b8b9013-c929-4cf7-826b-b1104da37fc5",
   "metadata": {},
   "outputs": [
    {
     "name": "stdout",
     "output_type": "stream",
     "text": [
      "joni\n"
     ]
    }
   ],
   "source": [
    "eng = {'ami': 'tmi','uni':'joni', 'mini':'rini'}\n",
    "print(eng['uni'])"
   ]
  },
  {
   "cell_type": "code",
   "execution_count": 6,
   "id": "5998d197-ee02-4b8a-9175-4b9ef0c07cc6",
   "metadata": {},
   "outputs": [
    {
     "name": "stdout",
     "output_type": "stream",
     "text": [
      "tol\n",
      "{'lol': 'tol', 'sal': 'mal', 'jal': 'nesa'}\n"
     ]
    }
   ],
   "source": [
    "bc = {'lol':'tol'}\n",
    "bc['sal']='mal'\n",
    "bc['jal']='nesa'\n",
    "value= bc\n",
    "jan= bc['lol']\n",
    "print(jan)\n",
    "print(value)"
   ]
  },
  {
   "cell_type": "code",
   "execution_count": 13,
   "id": "93cf1c16-96b7-4135-84c3-8c864bb772c5",
   "metadata": {},
   "outputs": [
    {
     "name": "stdout",
     "output_type": "stream",
     "text": [
      "{'gold': 33, 'silver': 17, 'bronze': 12}\n",
      "{'silver': 17, 'bronze': 12}\n",
      "{'silver': 25, 'bronze': 12}\n",
      "{'silver': 25, 'bronze': 15, 'gold': 14}\n",
      "{'silver': 25, 'bronze': 15, 'gold': 14, 'oscar': 39}\n",
      "4\n"
     ]
    }
   ],
   "source": [
    "medals={'gold':33,'silver':17,'bronze':12}\n",
    "print(medals)\n",
    "del medals[\"gold\"]\n",
    "print(medals)\n",
    "medals['silver']=25\n",
    "print(medals)\n",
    "medals['gold']=14\n",
    "medals['bronze']=medals['bronze']+3\n",
    "print(medals)\n",
    "medals['oscar']=medals['gold']+medals['silver']\n",
    "print(medals)\n",
    "joss= len(medals)\n",
    "print(joss)"
   ]
  },
  {
   "cell_type": "code",
   "execution_count": null,
   "id": "71169b79-3c1b-4851-8d98-30d5ea8c0795",
   "metadata": {},
   "outputs": [],
   "source": []
  }
 ],
 "metadata": {
  "kernelspec": {
   "display_name": "Python 3 (ipykernel)",
   "language": "python",
   "name": "python3"
  },
  "language_info": {
   "codemirror_mode": {
    "name": "ipython",
    "version": 3
   },
   "file_extension": ".py",
   "mimetype": "text/x-python",
   "name": "python",
   "nbconvert_exporter": "python",
   "pygments_lexer": "ipython3",
   "version": "3.13.2"
  }
 },
 "nbformat": 4,
 "nbformat_minor": 5
}
