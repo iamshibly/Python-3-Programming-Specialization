{
 "cells": [
  {
   "cell_type": "code",
   "execution_count": 11,
   "id": "46a115dd-ef9f-4af6-ac84-43ee91d529bf",
   "metadata": {},
   "outputs": [
    {
     "name": "stdout",
     "output_type": "stream",
     "text": [
      "['B', 'e', 'a', 'c', 'h', 's', ' ', 'r', 'o', 'l', 'p', 't', 'v', 'i', 'n', 'g', 'w', 'M', 'k', 'd', '.', 'x'] {'B': 2, 'e': 17, 'a': 12, 'c': 8, 'h': 4, 's': 10, ' ': 27, 'r': 7, 'o': 10, 'l': 8, 'p': 6, 't': 8, 'v': 3, 'i': 13, 'n': 7, 'g': 2, 'w': 3, 'M': 3, 'k': 2, 'd': 2, '.': 2, 'x': 1}\n",
      "Character with the lowest frequency: 'x' (1 occurrences)\n",
      "Character with the highest frequency: ' ' (27 occurrences)\n"
     ]
    }
   ],
   "source": [
    "placement = \"Beaches are cool places to visit in spring however the Mackinaw Bridge is near. Most people visit Mackinaw later since the island is a cool place to explore.\"\n",
    "\n",
    "d ={}\n",
    "for c in placement:\n",
    "    if c not in d:\n",
    "        d[c]=0\n",
    "    d[c]=d[c]+1\n",
    "keys = list(d.keys())\n",
    "print(keys, d)\n",
    "min_value = keys[0]\n",
    "for key in keys:\n",
    "    if d[key] < d[min_value]:  # Find lowest frequency\n",
    "        min_value = key\n",
    "\n",
    "max_value = keys[0]\n",
    "for key in keys:\n",
    "    if d[key] > d[max_value]:  # Find highest frequency\n",
    "        max_value = key\n",
    "\n",
    "print(f\"Character with the lowest frequency: '{min_value}' ({d[min_value]} occurrences)\")\n",
    "print(f\"Character with the highest frequency: '{max_value}' ({d[max_value]} occurrences)\")"
   ]
  },
  {
   "cell_type": "code",
   "execution_count": null,
   "id": "10bd52b1-538e-40b7-836d-1cbddc2c3b58",
   "metadata": {},
   "outputs": [],
   "source": []
  }
 ],
 "metadata": {
  "kernelspec": {
   "display_name": "Python 3 (ipykernel)",
   "language": "python",
   "name": "python3"
  },
  "language_info": {
   "codemirror_mode": {
    "name": "ipython",
    "version": 3
   },
   "file_extension": ".py",
   "mimetype": "text/x-python",
   "name": "python",
   "nbconvert_exporter": "python",
   "pygments_lexer": "ipython3",
   "version": "3.13.2"
  }
 },
 "nbformat": 4,
 "nbformat_minor": 5
}
