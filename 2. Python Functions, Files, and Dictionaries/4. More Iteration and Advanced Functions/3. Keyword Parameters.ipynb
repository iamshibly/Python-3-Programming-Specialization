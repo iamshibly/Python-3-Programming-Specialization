{
 "cells": [
  {
   "cell_type": "code",
   "execution_count": null,
   "id": "ccf08d74-977d-4fd5-a52f-1ad552055542",
   "metadata": {},
   "outputs": [],
   "source": [
    "def parrot(voltage, state='a stiff', action='voom', type='Norwegian Blue'):\n",
    "    print(\"-- This parrot wouldn't\" + action,)\n",
    "    print(\"if you put\" + str(voltage) + \"volts through it.\")\n",
    "    print(\"-- Lovely plumage, the\" +  type)\n",
    "    print(\"-- It's \" + state + \"!\")\n",
    "parrot(1000)                                          # 1 positional argument\n",
    "parrot(voltage=1000)                                  # 1 keyword argument\n",
    "parrot(voltage=1000000, action='VOOOOOM')             # 2 keyword arguments\n",
    "parrot(action='VOOOOOM', voltage=1000000)             # 2 keyword arguments\n",
    "parrot('a million', 'bereft of life', 'jump')         # 3 positional arguments\n",
    "parrot('a thousand', state='pushing up the daisies')  # 1 positional, 1 keywor"
   ]
  },
  {
   "cell_type": "code",
   "execution_count": null,
   "id": "1c3ae3e6-9f52-4efd-a887-306dc819a303",
   "metadata": {},
   "outputs": [],
   "source": [
    "names_scores = [(\"Jack\",[67,89,91]),(\"Emily\",[72,95,42]),(\"Taylor\",[83,92,86])]\n",
    "for name, scores in names_scores:\n",
    "    print(\"The scores {nm} got were: {s1},{s2},{s3}.\".format(nm=name,s1=scores[0],s2=scores[1],s3=scores[2]))\n"
   ]
  },
  {
   "cell_type": "code",
   "execution_count": null,
   "id": "f595341c-f33b-4266-9f41-8ef39855a1ac",
   "metadata": {},
   "outputs": [],
   "source": [
    "# this works\n",
    "names = [\"Jack\",\"Jill\",\"Mary\"]\n",
    "for n in names:\n",
    "    print(\"'{}!' she yelled. '{}! {}, {}!'\".format(n,n,n,\"say hello\"))\n",
    "\n",
    "# but this also works!\n",
    "names = [\"Jack\",\"Jill\",\"Mary\"]\n",
    "for n in names:\n",
    "    print(\"'{0}!' she yelled. '{0}! {0}, {1}!'\".format(n,\"say hello\"))\n"
   ]
  },
  {
   "cell_type": "code",
   "execution_count": 4,
   "id": "7f4058dd-ea99-49de-98f4-3bed9df59973",
   "metadata": {},
   "outputs": [
    {
     "data": {
      "text/plain": [
       "'jossjossjossjossjossjossjossjossjossjoss'"
      ]
     },
     "execution_count": 4,
     "metadata": {},
     "output_type": "execute_result"
    }
   ],
   "source": [
    "def multiply(x, mult_int=10):\n",
    "    return x*mult_int\n",
    "multiply(\"joss\")\n"
   ]
  },
  {
   "cell_type": "markdown",
   "id": "f40f8630-b4ab-49af-a844-a82ab7a50813",
   "metadata": {},
   "source": [
    "# Testing Optional Parameters"
   ]
  },
  {
   "cell_type": "code",
   "execution_count": 5,
   "id": "56a25f18-17ac-4bda-a786-68e77cd7dae6",
   "metadata": {},
   "outputs": [],
   "source": [
    "def count_long_words(words, min_length=5):\n",
    "    ct = 0\n",
    "    for word in words:\n",
    "        if len(word) >= min_length:\n",
    "            ct += 1\n",
    "    return ct\n",
    "\n",
    "test_words = [\"\", \"1\", \"12\", \"123\", \"1234\", \"12345\", \"123456\"]\n",
    "assert count_long_words(test_words) == 2\n",
    "assert count_long_words(test_words, min_length=0) == 7\n",
    "assert count_long_words(test_words, min_length=4) == 3\n",
    "assert count_long_words(test_words, min_length=100) == 0\n"
   ]
  },
  {
   "cell_type": "markdown",
   "id": "47b17487-61ee-4a7d-b8ec-6e13b8f71e4f",
   "metadata": {},
   "source": [
    "# Test Driven Development"
   ]
  },
  {
   "cell_type": "code",
   "execution_count": null,
   "id": "3df73808-4052-48e2-ac5c-4a2bae3d0e46",
   "metadata": {},
   "outputs": [],
   "source": [
    "def distance(x1, y1, x2, y2):\n",
    "    return None\n",
    "\n",
    "assert distance(1, 2, 1, 2) == 0\n"
   ]
  },
  {
   "cell_type": "code",
   "execution_count": null,
   "id": "4e138fbe-fe1b-4ed0-9ddf-4a884c4f1667",
   "metadata": {},
   "outputs": [],
   "source": [
    "def distance(x1, y1, x2, y2):\n",
    "    return 0.0\n",
    "\n",
    "assert distance(1, 2, 1, 2) == 0\n"
   ]
  },
  {
   "cell_type": "code",
   "execution_count": 6,
   "id": "530dcd67-b909-4215-9b5d-f1d5182371d6",
   "metadata": {},
   "outputs": [],
   "source": [
    "\n",
    "def distance(x1, y1, x2, y2):\n",
    "    dx=x2-x1\n",
    "    #dy=y2-y1\n",
    "    return dx\n",
    "\n",
    "assert distance(1,2, 1,2) == 0\n",
    "assert distance(1,2, 4,6) == 3\n",
    "assert distance(0,0, 1,1) == 1\n"
   ]
  },
  {
   "cell_type": "code",
   "execution_count": 8,
   "id": "f19a2249-f80d-4c29-8bd1-2ff2bba42ee9",
   "metadata": {},
   "outputs": [],
   "source": [
    "\n",
    "def distance(x1, y1, x2, y2):\n",
    "    dx=x2-x1\n",
    "    dy=y2-y1\n",
    "    return (dx*dx+dy*dy)**0.5\n",
    "\n",
    "assert distance(1,2, 1,2) == 0\n",
    "assert distance(1,2, 4,6) == 5\n",
    "assert distance(0,0, 1,1) == 2**0.5\n"
   ]
  },
  {
   "cell_type": "code",
   "execution_count": 9,
   "id": "33cf08dc-a266-4e66-8752-207207576774",
   "metadata": {},
   "outputs": [],
   "source": [
    "def distance(x1, y1, x2, y2):\n",
    "    dx = x2 - x1\n",
    "    dy = y2 - y1\n",
    "    dsquared = dx**2 + dy**2\n",
    "    result = dsquared**0.5\n",
    "    return result\n",
    "\n",
    "assert distance(1,2, 1,2) == 0\n",
    "assert distance(1,2, 4,6) == 5\n",
    "assert distance(0,0, 1,1) == 2**0.5\n"
   ]
  },
  {
   "cell_type": "code",
   "execution_count": null,
   "id": "66c4c524-4888-42ee-ab98-2a330b320a47",
   "metadata": {},
   "outputs": [],
   "source": []
  }
 ],
 "metadata": {
  "kernelspec": {
   "display_name": "Python 3 (ipykernel)",
   "language": "python",
   "name": "python3"
  },
  "language_info": {
   "codemirror_mode": {
    "name": "ipython",
    "version": 3
   },
   "file_extension": ".py",
   "mimetype": "text/x-python",
   "name": "python",
   "nbconvert_exporter": "python",
   "pygments_lexer": "ipython3",
   "version": "3.13.2"
  }
 },
 "nbformat": 4,
 "nbformat_minor": 5
}
