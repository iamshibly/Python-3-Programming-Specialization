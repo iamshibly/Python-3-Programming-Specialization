{
 "cells": [
  {
   "cell_type": "markdown",
   "id": "876291b4-1ce4-406f-8822-4e2ffa83ee23",
   "metadata": {},
   "source": [
    "# Introduction: Optional Parameters"
   ]
  },
  {
   "cell_type": "code",
   "execution_count": null,
   "id": "357c2e7b-a793-4b65-839f-7868177b1ccc",
   "metadata": {},
   "outputs": [],
   "source": [
    "print(int(\"100\"))\n",
    "print(int(\"100\", 10))   # same thing, 10 is the default value for the base\n",
    "print(int(\"100\", 8))     # now the base is 8, so the result is 1*64 = 64\n",
    "print(int(\"100\",20))"
   ]
  },
  {
   "cell_type": "code",
   "execution_count": 15,
   "id": "8b59cdb1-c98c-4225-9543-e2a3a01ff9f8",
   "metadata": {},
   "outputs": [
    {
     "name": "stdout",
     "output_type": "stream",
     "text": [
      "x, y, z, are: 2, 3, 7\n",
      "x, y, z, are: 2, 5, 7\n",
      "x, y, z, are: 2, 5, 8\n",
      "x, y, z, are: 2, 5, 4\n",
      "x, y, z, are: 5, 4, 1\n"
     ]
    }
   ],
   "source": [
    "initial = 7\n",
    "def f(x, y =3, z=initial):\n",
    "    print(\"x, y, z, are: \" + str(x) + \", \" + str(y) + \", \" + str(z))\n",
    "\t\n",
    "f(2)\n",
    "f(2, 5)\n",
    "f(2, 5, 8)\n",
    "f(2,5,z=4)\n",
    "f(z=1,x=5,y=4)"
   ]
  },
  {
   "cell_type": "code",
   "execution_count": null,
   "id": "09cba69c-856b-4bac-a2ab-dd6db45b4bb0",
   "metadata": {},
   "outputs": [],
   "source": [
    "initial = 7\n",
    "def f(x, y, z=initial):\n",
    "    print(\"x, y, z, are: \" + str(x) + \", \" + str(y) + \", \" + str(z))\n",
    "\t\n",
    "initial = 10\n",
    "f(2,4,initial)"
   ]
  },
  {
   "cell_type": "code",
   "execution_count": null,
   "id": "f468ef62-a4fc-4e63-932a-5f7bfd6df9ca",
   "metadata": {},
   "outputs": [],
   "source": [
    "def str_mult(x,y=3):\n",
    "    return x*y\n",
    "print(str_mult(\"sui \"))"
   ]
  },
  {
   "cell_type": "code",
   "execution_count": null,
   "id": "c7973a26-22bc-4dc2-a85b-e838eb9ef1d4",
   "metadata": {},
   "outputs": [],
   "source": [
    "def f(a, L=[]):\n",
    "\tL.append(a)\n",
    "\treturn L\n",
    "\t\n",
    "print(f(1))\n",
    "print(f(2))\n",
    "print(f(3))\n",
    "print(f(4, [\"Hello\"]))\n",
    "print(f(5, [\"Hello\"]))\n"
   ]
  },
  {
   "cell_type": "code",
   "execution_count": null,
   "id": "fdd76512-2850-4af6-9f44-5f7d2e9e8a59",
   "metadata": {},
   "outputs": [],
   "source": [
    "def f(a, L=None):\n",
    "    if L is None:  # Create a new list each time\n",
    "        L = []\n",
    "    L.append(a)\n",
    "    return L\n",
    "\n",
    "print(f(1))  # Output: [1]\n",
    "print(f(2))  # Output: [2]\n",
    "print(f(3))  # Output: [3]"
   ]
  },
  {
   "cell_type": "code",
   "execution_count": null,
   "id": "e787fe31-0c94-454b-9e95-ee44d652edd0",
   "metadata": {},
   "outputs": [],
   "source": []
  }
 ],
 "metadata": {
  "kernelspec": {
   "display_name": "Python 3 (ipykernel)",
   "language": "python",
   "name": "python3"
  },
  "language_info": {
   "codemirror_mode": {
    "name": "ipython",
    "version": 3
   },
   "file_extension": ".py",
   "mimetype": "text/x-python",
   "name": "python",
   "nbconvert_exporter": "python",
   "pygments_lexer": "ipython3",
   "version": "3.13.2"
  }
 },
 "nbformat": 4,
 "nbformat_minor": 5
}
