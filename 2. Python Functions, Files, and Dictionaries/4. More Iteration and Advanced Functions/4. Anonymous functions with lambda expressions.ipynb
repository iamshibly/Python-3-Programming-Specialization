{
 "cells": [
  {
   "cell_type": "markdown",
   "id": "08d08115-87f7-412c-ac47-ae5575e95a1b",
   "metadata": {},
   "source": [
    "# def fname(arguments):\n",
    "     return expression"
   ]
  },
  {
   "cell_type": "markdown",
   "id": "c5542c75-8318-45cf-af8d-6671d3d1a427",
   "metadata": {},
   "source": [
    "# function name = lambda arguments: expression (A function without name)"
   ]
  },
  {
   "cell_type": "code",
   "execution_count": 2,
   "id": "ed82ab0d-3d0b-4ebd-b597-3e78b7a08761",
   "metadata": {},
   "outputs": [
    {
     "name": "stdout",
     "output_type": "stream",
     "text": [
      "<function f at 0x000001F2ACA26DE0>\n",
      "<class 'function'>\n",
      "2\n",
      "<function <lambda> at 0x000001F2ACA271A0>\n",
      "<class 'function'>\n",
      "4\n",
      "4\n"
     ]
    }
   ],
   "source": [
    "def f(x):\n",
    "    return x - 1\n",
    "\n",
    "print(f)\n",
    "print(type(f))\n",
    "print(f(3))\n",
    "\n",
    "print(lambda x: x-2)\n",
    "print(type(lambda x: x-2))\n",
    "print((lambda x: x-2)(6))\n",
    "print((lambda x,y: x+y)(3,1))\n"
   ]
  },
  {
   "cell_type": "code",
   "execution_count": 3,
   "id": "cef10f1b-fb54-4c71-89a6-552744808ac3",
   "metadata": {},
   "outputs": [
    {
     "name": "stdout",
     "output_type": "stream",
     "text": [
      "8\n"
     ]
    }
   ],
   "source": [
    "add_3 = lambda x: x + 3\n",
    "print(add_3(5))"
   ]
  },
  {
   "cell_type": "code",
   "execution_count": null,
   "id": "7904abe4-fa51-4f68-827e-42878b9e5560",
   "metadata": {},
   "outputs": [],
   "source": []
  }
 ],
 "metadata": {
  "kernelspec": {
   "display_name": "Python 3 (ipykernel)",
   "language": "python",
   "name": "python3"
  },
  "language_info": {
   "codemirror_mode": {
    "name": "ipython",
    "version": 3
   },
   "file_extension": ".py",
   "mimetype": "text/x-python",
   "name": "python",
   "nbconvert_exporter": "python",
   "pygments_lexer": "ipython3",
   "version": "3.13.2"
  }
 },
 "nbformat": 4,
 "nbformat_minor": 5
}
