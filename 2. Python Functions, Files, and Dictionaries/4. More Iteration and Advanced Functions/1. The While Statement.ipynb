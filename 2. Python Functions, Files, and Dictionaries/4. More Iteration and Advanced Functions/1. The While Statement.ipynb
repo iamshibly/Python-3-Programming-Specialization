{
 "cells": [
  {
   "cell_type": "code",
   "execution_count": null,
   "id": "8a013f20-c7e6-4552-87ce-69858736862d",
   "metadata": {},
   "outputs": [],
   "source": [
    "def numvers(x):\n",
    "    beg=1\n",
    "    total=0\n",
    "    while beg<=x:\n",
    "        total=total+beg\n",
    "        beg=beg+1\n",
    "    return total\n",
    "\n",
    "print(numvers(4))\n",
    "print(numvers(1000))"
   ]
  },
  {
   "cell_type": "code",
   "execution_count": null,
   "id": "760208a3-8e1e-4fd6-bafc-2b457c3335cb",
   "metadata": {},
   "outputs": [],
   "source": [
    "count=0\n",
    "eve_nums=[]\n",
    "while count<=15:\n",
    "    if count %2==0:\n",
    "        eve_nums.append(count)\n",
    "    count=count+1\n",
    "print(eve_nums)"
   ]
  },
  {
   "cell_type": "code",
   "execution_count": null,
   "id": "d0aa31c7-442d-493b-9861-48e39ca3e333",
   "metadata": {},
   "outputs": [],
   "source": [
    "list1 = [8, 3, 4, 5, 6, 7, 9]\n",
    "\n",
    "tot = 0\n",
    "for elem in list1:\n",
    "    tot = tot + elem\n",
    "beg=0\n",
    "accum=0\n",
    "while beg<len(list1):\n",
    "    accum=accum+list1[beg]\n",
    "    beg=beg+1\n",
    "print(accum)"
   ]
  },
  {
   "cell_type": "markdown",
   "id": "8d2a29b5-b0a7-4d8d-ada5-0f87a586531c",
   "metadata": {},
   "source": [
    "# The Listener Loop"
   ]
  },
  {
   "cell_type": "code",
   "execution_count": null,
   "id": "20296550-6bb4-4b4e-b167-9bfd44ed3dbb",
   "metadata": {},
   "outputs": [],
   "source": [
    "theSum = 0\n",
    "x = -1\n",
    "\n",
    "while x != 0:\n",
    "    x = int(input(\"Next number to add up (enter 0 if no more numbers): \"))\n",
    "    theSum += x\n",
    "\n",
    "print(theSum)\n"
   ]
  },
  {
   "cell_type": "code",
   "execution_count": 5,
   "id": "d9fa228d-b8a6-49e1-a865-dd189ef88cdc",
   "metadata": {},
   "outputs": [
    {
     "name": "stdin",
     "output_type": "stream",
     "text": [
      "Do you like lima beans? Y)es or N)o:  N\n"
     ]
    },
    {
     "name": "stdout",
     "output_type": "stream",
     "text": [
      "Too bad. If cooked right, they are quite tasty.\n"
     ]
    }
   ],
   "source": [
    "def get_yes_or_no(message):\n",
    "    valid_input = False\n",
    "    while not valid_input:\n",
    "        answer = input(message)\n",
    "        answer = answer.upper() # convert to upper case\n",
    "        if answer == 'Y' or answer == 'N':\n",
    "            valid_input = True\n",
    "    return answer\n",
    "\n",
    "response = get_yes_or_no('Do you like lima beans? Y)es or N)o: ')\n",
    "if response == 'Y':\n",
    "    print('Great! They are very healthy.')\n",
    "else:\n",
    "    print('Too bad. If cooked right, they are quite tasty.')\n",
    "\n"
   ]
  },
  {
   "cell_type": "code",
   "execution_count": 6,
   "id": "6d1f189a-b528-41d7-ac4a-6ffcf8b9ad9c",
   "metadata": {},
   "outputs": [
    {
     "name": "stdin",
     "output_type": "stream",
     "text": [
      "Enter price of item (0 when done):  6\n"
     ]
    },
    {
     "name": "stdout",
     "output_type": "stream",
     "text": [
      "Subtotal: $ 6.0\n"
     ]
    },
    {
     "name": "stdin",
     "output_type": "stream",
     "text": [
      "Enter price of item (0 when done):  7\n"
     ]
    },
    {
     "name": "stdout",
     "output_type": "stream",
     "text": [
      "Subtotal: $ 13.0\n"
     ]
    },
    {
     "name": "stdin",
     "output_type": "stream",
     "text": [
      "Enter price of item (0 when done):  0\n"
     ]
    },
    {
     "name": "stdout",
     "output_type": "stream",
     "text": [
      "Total items: 2\n",
      "Total $ 13.0\n",
      "Average price per item: $ 6.5\n"
     ]
    }
   ],
   "source": [
    "def checkout():\n",
    "    total = 0\n",
    "    count = 0\n",
    "    moreItems = True\n",
    "    while moreItems:\n",
    "        price = float(input('Enter price of item (0 when done): '))\n",
    "        if price != 0:\n",
    "            count = count + 1\n",
    "            total = total + price\n",
    "            print('Subtotal: $', total)\n",
    "        else:\n",
    "            moreItems = False\n",
    "    average = total / count\n",
    "    print('Total items:', count)\n",
    "    print('Total $', total)\n",
    "    print('Average price per item: $', average)\n",
    "\n",
    "checkout()\n"
   ]
  },
  {
   "cell_type": "code",
   "execution_count": 7,
   "id": "e6e35952-c79a-4341-b2c9-fcf6f5da9fa7",
   "metadata": {},
   "outputs": [],
   "source": [
    "import random\n",
    "import turtle\n",
    "\n",
    "\n",
    "def isInScreen(w, t):\n",
    "    if random.random() > 0.1:\n",
    "        return True\n",
    "    else:\n",
    "        return False\n",
    "\n",
    "\n",
    "t = turtle.Turtle()\n",
    "wn = turtle.Screen()\n",
    "\n",
    "t.shape('turtle')\n",
    "while isInScreen(wn, t):\n",
    "    coin = random.randrange(0, 2)\n",
    "    if coin == 0:              # heads\n",
    "        t.left(90)\n",
    "    else:                      # tails\n",
    "        t.right(90)\n",
    "\n",
    "    t.forward(50)\n",
    "\n",
    "wn.exitonclick()\n"
   ]
  },
  {
   "cell_type": "code",
   "execution_count": 1,
   "id": "32374668-92cb-4fc2-9824-f3142babfa77",
   "metadata": {},
   "outputs": [],
   "source": [
    "import random\n",
    "import turtle\n",
    "\n",
    "def isInScreen(w,t):\n",
    "    leftBound = - w.window_width() / 2\n",
    "    rightBound = w.window_width() / 2\n",
    "    topBound = w.window_height() / 2\n",
    "    bottomBound = -w.window_height() / 2\n",
    "\n",
    "    turtleX = t.xcor()\n",
    "    turtleY = t.ycor()\n",
    "\n",
    "    stillIn = True\n",
    "    if turtleX > rightBound or turtleX < leftBound:\n",
    "        stillIn = False\n",
    "    if turtleY > topBound or turtleY < bottomBound:\n",
    "        stillIn = False\n",
    "\n",
    "    return stillIn\n",
    "\n",
    "t = turtle.Turtle()\n",
    "wn = turtle.Screen()\n",
    "\n",
    "t.shape('turtle')\n",
    "while isInScreen(wn,t):\n",
    "    coin = random.randrange(0, 2)\n",
    "    if coin == 0:\n",
    "        t.left(90)\n",
    "    else:\n",
    "        t.right(90)\n",
    "\n",
    "    t.forward(50)\n",
    "\n",
    "wn.exitonclick()\n"
   ]
  },
  {
   "cell_type": "markdown",
   "id": "6491aa08-4464-431e-8207-38da516c77b5",
   "metadata": {},
   "source": [
    "# Break and Continue"
   ]
  },
  {
   "cell_type": "code",
   "execution_count": 2,
   "id": "7eb2de98-97f7-4ffe-9b64-8f3c5fbaf791",
   "metadata": {},
   "outputs": [
    {
     "name": "stdout",
     "output_type": "stream",
     "text": [
      "this phrase will always print\n",
      "We are done with the while loop.\n"
     ]
    }
   ],
   "source": [
    "while True:\n",
    "    print(\"this phrase will always print\")\n",
    "    break\n",
    "    print(\"Does this phrase print?\")\n",
    "\n",
    "print(\"We are done with the while loop.\")\n"
   ]
  },
  {
   "cell_type": "code",
   "execution_count": 3,
   "id": "e8dd8f4f-c6b9-4e06-b7e9-bdaf2e160c1c",
   "metadata": {},
   "outputs": [
    {
     "name": "stdout",
     "output_type": "stream",
     "text": [
      "we are incrementing x\n",
      "we are incrementing x\n",
      "we are incrementing x\n",
      "Done with our loop! X has the value: 15\n"
     ]
    }
   ],
   "source": [
    "x = 0\n",
    "while x < 10:\n",
    "    print(\"we are incrementing x\")\n",
    "    if x % 2 == 0:\n",
    "        x += 3\n",
    "        continue\n",
    "    if x % 3 == 0:\n",
    "        x += 5\n",
    "    x += 1\n",
    "print(\"Done with our loop! X has the value: \" + str(x))\n"
   ]
  },
  {
   "cell_type": "markdown",
   "id": "280d8965-320c-418f-9e42-6db22ad5ca8d",
   "metadata": {},
   "source": [
    "# Infinite Loops"
   ]
  },
  {
   "cell_type": "code",
   "execution_count": null,
   "id": "a64ffd20-fddb-4476-bdd8-2416d3577f75",
   "metadata": {},
   "outputs": [],
   "source": [
    "b=10\n",
    "while b<13:\n",
    "    b=5\n",
    "    print(\"sui\")\n",
    "    b=b+7"
   ]
  }
 ],
 "metadata": {
  "kernelspec": {
   "display_name": "Python 3 (ipykernel)",
   "language": "python",
   "name": "python3"
  },
  "language_info": {
   "codemirror_mode": {
    "name": "ipython",
    "version": 3
   },
   "file_extension": ".py",
   "mimetype": "text/x-python",
   "name": "python",
   "nbconvert_exporter": "python",
   "pygments_lexer": "ipython3",
   "version": "3.13.2"
  }
 },
 "nbformat": 4,
 "nbformat_minor": 5
}
